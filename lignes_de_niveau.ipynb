{
 "cells": [
  {
   "cell_type": "markdown",
   "metadata": {},
   "source": [
    "# Projet Lignes de niveau"
   ]
  },
  {
   "cell_type": "markdown",
   "metadata": {},
   "source": [
    "On importe ces modules par principe de precaution"
   ]
  },
  {
   "cell_type": "code",
   "execution_count": null,
   "metadata": {},
   "outputs": [],
   "source": [
    "import autograd\n",
    "from autograd import numpy as np\n",
    "from matplotlib import pyplot as plt\n",
    "%matplotlib inline"
   ]
  },
  {
   "cell_type": "markdown",
   "metadata": {},
   "source": [
    " Ceci est le notebook Jupyter contenant le projet de dessin de lignes de niveau sous python de Maud Roux-Salembien et Jérémy Costanzo"
   ]
  },
  {
   "cell_type": "markdown",
   "metadata": {},
   "source": [
    "Soit f une fonction de $[0,1]^2$ vers $\\mathbb{R}$ supposée continuement différentiable.\n",
    "\n",
    "On cherche les ensembles de la forme : {$(x,y)\\in\\mathbb{R}^2|f(x,y)=c$} où c $\\in$ $\\mathbb{R}$"
   ]
  },
  {
   "cell_type": "code",
   "execution_count": null,
   "metadata": {},
   "outputs": [],
   "source": [
    "def f(x,y):\n",
    "    return(x**2+y**2)\n",
    "f(1,2)"
   ]
  },
  {
   "cell_type": "markdown",
   "metadata": {},
   "source": [
    "## <u>Contour simple</u>"
   ]
  },
  {
   "cell_type": "markdown",
   "metadata": {},
   "source": [
    "### Amorce : "
   ]
  },
  {
   "cell_type": "markdown",
   "metadata": {},
   "source": [
    "Soit c $\\in$ $\\mathbb{R}$\n",
    "\n",
    "On cherche une condition suffisante sur f(0,0) et f(0,1) pour qu'il existe t $\\in$ [0,1] tel que f(0,t) = c\n",
    "\n",
    "On sait que f est continuement différentiable, donc en particulier f(0,.), qui désigne la fonction $\\begin{align*}\n",
    "  [0,1] &\\to \\mathbb{R}\\\\\n",
    "  t &\\mapsto f(0,t).\n",
    "\\end{align*}$\n",
    "est continue.\n",
    "\n",
    "\n",
    "Ainsi, si c appartient au segment [min(f(0,0),f(0,1)),max(f(0,0),f(0,1))], le théorème des valeurs intermédiaires nous assure l'existence d'un t $\\in$ [0,1] solution de f(0,t) = c.\n",
    "\n",
    "Si la condition évoquée est satisfaite, on peut chercher numériquement une solution en utilisant la méthode de la dichotomie :"
   ]
  },
  {
   "cell_type": "code",
   "execution_count": null,
   "metadata": {},
   "outputs": [],
   "source": [
    "def find_seed(g,c=0,eps=2**(-26)):\n",
    "    if (g(0)-c)*(g(1)-c) > 0:\n",
    "        return None\n",
    "    else:\n",
    "        a = 0\n",
    "        b = 1\n",
    "        while b-a > eps:\n",
    "            m = (a+b)/2\n",
    "            if (g(m)-c)*(g(a)-c)<=0:\n",
    "                b = m\n",
    "            else:\n",
    "                a = m\n",
    "        t = (a+b)/2\n",
    "        return t"
   ]
  },
  {
   "cell_type": "markdown",
   "metadata": {},
   "source": [
    "La méthode des tangentes de Newton converge plus rapidement, mais nécessite plus d'hypothèses, et on ne peut pas savoir à quel point on est éloigné d'une solution, alors que la méthode de la dichotomie ne nécessite que la continuité de g, et permet de majorer la distance à une solution."
   ]
  },
  {
   "cell_type": "markdown",
   "metadata": {},
   "source": [
    "### Propagation"
   ]
  },
  {
   "cell_type": "markdown",
   "metadata": {},
   "source": [
    "Une première approche pour implémenter la fonction simple_contour consisterait à subdiviser [0,1] en segments de taille $\\delta$, et d'utiliser find_seed(g,c,eps) où g est la fonction $\\begin{align*}\n",
    "  [0,1] &\\to \\mathbb{R}\\\\\n",
    "  t &\\mapsto f(k\\delta,t)\n",
    "\\end{align*}$ où k varie de 0 à int(1/$\\delta$). Mais cela n'est pas satisfaisant, il faudrait réaliser environ 1/$\\delta$ dichotomies, et l'équation f(k$\\delta$,t) = c peut admettre plusieurs solutions éloignées les unes des autres.\n",
    "\n",
    "Pour la suite, nous avons besoin de calculer le gradient de f en un point. Ainsi nous implementons une classe pt qui permet de representer des elements de $\\mathbb{R}^2$, donc des points ou des vecteurs."
   ]
  },
  {
   "cell_type": "code",
   "execution_count": null,
   "metadata": {},
   "outputs": [],
   "source": [
    "tolerance = 1**(-12) #un petit flottant, choisi un peu au pif pour l'instant...\n",
    "\n",
    "class pt:\n",
    "    def __init__(self,x=0.0,y=0.0):\n",
    "        self.x = x\n",
    "        self.y = y\n",
    "    \n",
    "    def __repr__(self):\n",
    "        return('{'+str(self.x)+','+str(self.y)+'}')\n",
    "        \n",
    "    def __mul__(a,b):\n",
    "        if isinstance(b,int) or isinstance(b,float):\n",
    "            return pt(a.x*b,a.y*b)\n",
    "        else:\n",
    "            return pt(a.x*b.x,a.y*b.y)\n",
    "            \n",
    "    def __rmul__(a,b):\n",
    "        if isinstance(a,int) or isinstance(a,float):\n",
    "            return pt(a*b.x,a*b.y)\n",
    "        else:\n",
    "            return a*b\n",
    "    def __neg__(self):\n",
    "        return pt(-self.x,-self.y)\n",
    "        \n",
    "    def __add__(a,b):\n",
    "        return pt(a.x+b.x,a.y+b.y)  \n",
    "    \n",
    "    def __inv__(self):\n",
    "        return pt(1/self.x,1/self.y)\n",
    "    \n",
    "    def __div__(self,b):\n",
    "        return (self * (1/b))\n",
    "    \n",
    "    def __rdiv__(self,b):\n",
    "        return pt(b.x/self,b.y/self)\n",
    "    \n",
    "    def norme(self):\n",
    "        return (self.x**2 + self.y**2)**0.5\n",
    "\n",
    "    def normalized(self):\n",
    "        return(self*(1/(self.norme())))\n",
    "        \n",
    "    def __sub__(self,b):\n",
    "        return self+ (-b)\n",
    "        \n",
    "    def orth(self):\n",
    "        return pt(-self.y,self.x)\n",
    "\n",
    "def list_x_y(p):\n",
    "    x,y = [],[]\n",
    "    for i in p:\n",
    "        x.append(i.x)\n",
    "        y.append(i.y)\n",
    "    return(np.array(x),np.array(y))\n",
    "    \n",
    "def dist(a,b):\n",
    "    return (a-b).norme()\n",
    "    \n",
    "def grad(p=pt()):\n",
    "    g = autograd.grad\n",
    "    t = np.r_[g(f,0)(p.x,p.y),g(f,1)(p.x,p.y)]\n",
    "    return pt(t[0],t[1])"
   ]
  },
  {
   "cell_type": "markdown",
   "metadata": {},
   "source": [
    "Nous implementons maintenant la fonction ingrid : ingrid(p,grid) renvoie : p $\\in$ grid ou grid est en fait un ensemble de la forme [a,b]x[c,d] où (a,b,c,d) $\\in \\mathbb{R}^4$."
   ]
  },
  {
   "cell_type": "code",
   "execution_count": null,
   "metadata": {},
   "outputs": [],
   "source": [
    "def ingrid(p,grid):\n",
    "    return(grid[0]<=p.x<=grid[1] and grid[2]<=p.y<=grid[3])    "
   ]
  },
  {
   "cell_type": "markdown",
   "metadata": {},
   "source": [
    "Les fonctions suivantes permettent de se reperer sur un cercle de rayon delta centre sur un point p0."
   ]
  },
  {
   "cell_type": "code",
   "execution_count": null,
   "metadata": {},
   "outputs": [],
   "source": [
    "def p_a1(ang):\n",
    "    \"\"\"\n",
    "    Cette fonction calcule le point p sur le cercle unite tel que l'angle oriente (pt(1,0),p) vale ang\n",
    "    \"\"\"\n",
    "    return(pt(np.cos(ang),np.sin(ang)))    \n",
    "\n",
    "def rad(p):\n",
    "    \"\"\"\n",
    "    Cette fonction calcule l'angle oriente (pt(1,0),p)\n",
    "    \"\"\"\n",
    "    x = p.x\n",
    "    y = p.y\n",
    "    if abs(x)>abs(y):\n",
    "        if y >= 0:\n",
    "            return(np.arccos(x))\n",
    "        else:\n",
    "            return(-np.arccos(x))\n",
    "    else:\n",
    "        if x >= 0:\n",
    "            return(np.arcsin(y))\n",
    "        else:\n",
    "            return(np.pi-np.arcsin(y))\n",
    "    \n",
    "def theta(p0,p):\n",
    "    \"\"\"\n",
    "    calcule l'angle oriente (p0+pt(delta,0),p) ou delta = dist(p0,p)\n",
    "    \"\"\"\n",
    "    de = dist(p0,p)\n",
    "    return(rad((1/de)*(p-p0)))\n",
    "\n",
    "def p_a(p0,th,delta):\n",
    "    \"\"\"\n",
    "    calcule le point p tel que dist(p,p0) = delta et theta(p0,p) = th\n",
    "    \"\"\"\n",
    "    p = delta*p_a1(th)\n",
    "    return(p0+p)"
   ]
  },
  {
   "cell_type": "markdown",
   "metadata": {},
   "source": [
    "Description de suivant, de la methode des tangentes, contour simple..."
   ]
  },
  {
   "cell_type": "code",
   "execution_count": null,
   "metadata": {},
   "outputs": [],
   "source": [
    "def simple_contour(f,c=0.0, delta =0.01,grid = [0.0,1.0,0.0,1.0],cote= lambda x: f(grid[0],x)):\n",
    "    pass"
   ]
  },
  {
   "cell_type": "markdown",
   "metadata": {},
   "source": [
    "## Contour complexe"
   ]
  },
  {
   "cell_type": "markdown",
   "metadata": {},
   "source": [
    "On veut maintenant quadriller notre espace pour trouver des amorces ailleurs pour les lignes de niveau.\n",
    "On va appeler contour_simple sur ces grilles.\n",
    "On définit la fonction bord, qui renvoie une fonction $[0,1] \\rightarrow \\mathbb{R}$, qui va nous servir à trouver une amorce pour chacun des 4 côtés de la cellule."
   ]
  },
  {
   "cell_type": "code",
   "execution_count": null,
   "metadata": {},
   "outputs": [],
   "source": [
    "def bord(f,p1,p2,n):\n",
    "                \"\"\"\n",
    "                bord(f,p1,p2,n) renvoie une application partielle qui va etre utilisee par find_seed pour trouver une amorce a une ligne de niveau.\n",
    "                \"\"\"\n",
    "                if n == 0:\n",
    "                    return(lambda x: f(p1.x,p2.y + (p1.y-p2.y)*x))\n",
    "                elif n == 1:\n",
    "                    return(lambda x: f(p1.x + (p2.x-p1.x)*x,p1.y))\n",
    "                elif n == 2:\n",
    "                    return(lambda t: f(p2.x, p2.y + (p1.y-p2.y)*x))\n",
    "                elif n == 3:\n",
    "                    return(lambda t: f(p1.x + (p2.x-p1.x), p2.y))\n",
    "            \n",
    "def contour(f,c=0.0,xc=[0.0,1.0],yc=[0.0,1.0],delta = 0.01):\n",
    "    xs,ys = [],[]\n",
    "    for i in range(len(xc)-1):\n",
    "        for j in range(len(yc)-1):\n",
    "            grid = [xc[i],yc[j],xc[i+1],yc[j+1]]\n",
    "            p1 = pt(xc[i],yc[i])\n",
    "            p2 = pt(xc[i+1],yc[j+1])\n",
    "            \n",
    "            for n in range(4):    \n",
    "                appp = bord(f,p1,p2,n)\n",
    "                x,y = simple_contour(f,c,delta,grid,bord)\n",
    "                xs.append(x)\n",
    "                ys.append(y)\n",
    "    return(xs,ys)"
   ]
  }
 ],
 "metadata": {
  "kernelspec": {
   "display_name": "Python 3",
   "language": "python",
   "name": "python3"
  },
  "language_info": {
   "codemirror_mode": {
    "name": "ipython",
    "version": 3
   },
   "file_extension": ".py",
   "mimetype": "text/x-python",
   "name": "python",
   "nbconvert_exporter": "python",
   "pygments_lexer": "ipython3",
   "version": "3.7.3"
  }
 },
 "nbformat": 4,
 "nbformat_minor": 2
}
