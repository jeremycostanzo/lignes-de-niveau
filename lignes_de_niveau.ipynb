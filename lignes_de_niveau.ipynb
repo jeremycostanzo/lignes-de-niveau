{
 "cells": [
  {
   "cell_type": "markdown",
   "metadata": {},
   "source": [
    "# Projet Lignes de niveau"
   ]
  },
  {
   "cell_type": "markdown",
   "metadata": {},
   "source": [
    " Ceci est le notebook Jupyter contenant le projet de dessin de lignes de niveau sous python de Maud Roux-Salembien et Jérémy Costanzo"
   ]
  },
  {
   "cell_type": "markdown",
   "metadata": {},
   "source": [
    "Soit f une fonction de $[0,1]^2$ vers $\\mathbb{R}$ supposée continuement différentiable.\n",
    "\n",
    "On cherche les ensembles de la forme : {$(x,y)\\in\\mathbb{R}^2|f(x,y)=c$} où c $\\in$ $\\mathbb{R}$"
   ]
  },
  {
   "cell_type": "markdown",
   "metadata": {},
   "source": [
    "## <u>Contour simple</u>"
   ]
  },
  {
   "cell_type": "markdown",
   "metadata": {},
   "source": [
    "### Amorce : "
   ]
  },
  {
   "cell_type": "markdown",
   "metadata": {},
   "source": [
    "Soit c $\\in$ $\\mathbb{R}$\n",
    "\n",
    "On cherche une condition suffisante sur f(0,0) et f(0,1) pour qu'il existe t $\\in$ [0,1] tel que f(0,t) = c\n",
    "\n",
    "On sait que f est continuement différentiable, donc en particulier f(0,.), qui désigne la fonction $\\begin{align*}\n",
    "  [0,1] &\\to \\mathbb{R}\\\\\n",
    "  t &\\mapsto f(0,t).\n",
    "\\end{align*}$\n",
    "est continue.\n",
    "\n",
    "\n",
    "Ainsi, si c appartient au segment [min(f(0,0),f(0,1)),max(f(0,0),f(0,1))], le théorème des valeurs intermédiaires nous assure l'existence d'un t $\\in$ [0,1] solution de f(0,t) = c.\n",
    "\n",
    "Si la condition évoquée est satisfaite, on peut chercher numériquement une solution en utilisant la méthode de la dichotomie :"
   ]
  },
  {
   "cell_type": "code",
   "execution_count": null,
   "metadata": {},
   "outputs": [],
   "source": [
    "def find_seed(g,c=0,eps=2**(-26)):\n",
    "    if (g(0)-c)*(g(1)-c) > 0:\n",
    "        return None\n",
    "    else:\n",
    "        a = 0\n",
    "        b = 1\n",
    "        while b-a > eps:\n",
    "            t = (a+b)/2\n",
    "            if (g(m)-c)*(g(a)-c)<=0:\n",
    "                b = t\n",
    "            else:\n",
    "                a = t\n",
    "        t = (a+b)/2\n",
    "        return t"
   ]
  },
  {
   "cell_type": "markdown",
   "metadata": {},
   "source": [
    "La méthode des tangentes de Newton converge plus rapidement, mais nécessite plus d'hypothèses, et on ne peut pas savoir à quel point on est éloigné d'une solution, alors que la méthode de la dichotomie ne nécessite que la continuité de g, et permet de majorer la distance à une solution."
   ]
  },
  {
   "cell_type": "markdown",
   "metadata": {},
   "source": [
    "### Propagation"
   ]
  },
  {
   "cell_type": "markdown",
   "metadata": {},
   "source": [
    "Une première approche pour implémenter la fonction simple_contour consisterait à subdiviser [0,1] en segments de taille $\\delta$, et d'utiliser find_seed(g,c,eps) où g est la fonction $\\begin{align*}\n",
    "  [0,1] &\\to \\mathbb{R}\\\\\n",
    "  t &\\mapsto f(k\\delta,t)\n",
    "\\end{align*}$ où k varie de 0 à int(1/$\\delta$). Mais cela n'est pas satisfaisant, il faudrait réaliser environ 1/$\\delta$ dichotomies, et l'équation f(k$\\delta$,t) = c peut admettre plusieurs solutions éloignées les unes des autres.\n",
    "\n",
    "Pour la suite, nous avons besoin de calculer le gradient de f en un point, et nous avons besoin d'une fonction donnant la distance entre deux points pour pouvoir tracer les lignes de niveau."
   ]
  },
  {
   "cell_type": "code",
   "execution_count": null,
   "metadata": {},
   "outputs": [],
   "source": [
    "import autograd\n",
    "from autograd import numpy as np\n",
    "def dist(x1,y1,x2,y2):\n",
    "    return ((x1-x2)**2 + (y1-y2)**2)**0.5\n",
    "\n",
    "def grad_f(x,y):\n",
    "    g = autograd.grad\n",
    "    return np.r_[g(f,0)(x,y),g(f,1)(x,y)]"
   ]
  }
 ],
 "metadata": {
  "kernelspec": {
   "display_name": "Python 3",
   "language": "python",
   "name": "python3"
  },
  "language_info": {
   "codemirror_mode": {
    "name": "ipython",
    "version": 3
   },
   "file_extension": ".py",
   "mimetype": "text/x-python",
   "name": "python",
   "nbconvert_exporter": "python",
   "pygments_lexer": "ipython3",
   "version": "3.7.2"
  }
 },
 "nbformat": 4,
 "nbformat_minor": 2
}
