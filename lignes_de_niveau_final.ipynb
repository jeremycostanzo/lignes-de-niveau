{
 "cells": [
  {
   "cell_type": "markdown",
   "metadata": {},
   "source": [
    "# Projet Lignes de niveau"
   ]
  },
  {
   "cell_type": "markdown",
   "metadata": {},
   "source": [
    "On importe ces modules par principe de precaution"
   ]
  },
  {
   "cell_type": "code",
   "execution_count": null,
   "metadata": {},
   "outputs": [],
   "source": [
    "import autograd\n",
    "from autograd import numpy as np\n",
    "from matplotlib import pyplot as plt\n",
    "%matplotlib inline"
   ]
  },
  {
   "cell_type": "markdown",
   "metadata": {},
   "source": [
    " Ceci est le notebook Jupyter contenant le projet de dessin de lignes de niveau sous python de Maud Roux-Salembien et Jérémy Costanzo"
   ]
  },
  {
   "cell_type": "markdown",
   "metadata": {},
   "source": [
    "Soit f une fonction de $[0,1]^2$ vers $\\mathbb{R}$ supposée continuement différentiable.\n",
    "\n",
    "On cherche les ensembles de la forme : {$(x,y)\\in\\mathbb{R}^2|f(x,y)=c$} où c $\\in$ $\\mathbb{R}$\n",
    "\n"
   ]
  },
  {
   "cell_type": "markdown",
   "metadata": {},
   "source": [
    "## <u>Contour simple</u>"
   ]
  },
  {
   "cell_type": "markdown",
   "metadata": {},
   "source": [
    "### Amorce : "
   ]
  },
  {
   "cell_type": "markdown",
   "metadata": {},
   "source": [
    "Soit c $\\in$ $\\mathbb{R}$\n",
    "\n",
    "On cherche une condition suffisante sur f(0,0) et f(0,1) pour qu'il existe t $\\in$ [0,1] tel que f(0,t) = c\n",
    "\n",
    "On sait que f est continuement différentiable, donc en particulier f(0,.), qui désigne la fonction $\\begin{align*}\n",
    "  [0,1] &\\to \\mathbb{R}\\\\\n",
    "  t &\\mapsto f(0,t).\n",
    "\\end{align*}$\n",
    "est continue.\n",
    "\n",
    "\n",
    "Ainsi, si c appartient au segment [min(f(0,0),f(0,1)),max(f(0,0),f(0,1))], le théorème des valeurs intermédiaires nous assure l'existence d'un t $\\in$ [0,1] solution de f(0,t) = c.\n",
    "\n",
    "Si la condition évoquée est satisfaite, on peut chercher numériquement une solution en utilisant la méthode de la dichotomie :"
   ]
  },
  {
   "cell_type": "code",
   "execution_count": null,
   "metadata": {},
   "outputs": [],
   "source": [
    "def find_seed(g,c=0,eps=2**(-26)):\n",
    "    if (g(0)-c)*(g(1)-c) > 0:\n",
    "        return None\n",
    "    else:\n",
    "        a = 0\n",
    "        b = 1\n",
    "        while b-a > eps:\n",
    "            m = (a+b)/2\n",
    "            if (g(m)-c)*(g(a)-c)<=0:\n",
    "                b = m\n",
    "            else:\n",
    "                a = m\n",
    "        t = (a+b)/2\n",
    "        return t"
   ]
  },
  {
   "cell_type": "markdown",
   "metadata": {},
   "source": [
    "La méthode des tangentes de Newton converge plus rapidement, mais nécessite plus d'hypothèses, et on ne peut pas savoir à quel point on est éloigné d'une solution, alors que la méthode de la dichotomie ne nécessite que la continuité de g, et permet de majorer la distance à une solution."
   ]
  },
  {
   "cell_type": "markdown",
   "metadata": {},
   "source": [
    "### Propagation"
   ]
  },
  {
   "cell_type": "markdown",
   "metadata": {},
   "source": [
    "Une première approche pour implémenter la fonction simple_contour consisterait à subdiviser [0,1] en segments de taille $\\delta$, et d'utiliser find_seed(g,c,eps) où g est la fonction $\\begin{align*}\n",
    "  [0,1] &\\to \\mathbb{R}\\\\\n",
    "  t &\\mapsto f(k\\delta,t)\n",
    "\\end{align*}$ où k varie de 0 à int(1/$\\delta$). Mais cela n'est pas satisfaisant, car l'équation f(k$\\delta$,t) = c peut admettre plusieurs solutions éloignées les unes des autres."
   ]
  },
  {
   "cell_type": "markdown",
   "metadata": {},
   "source": [
    "Ceci est l'implémentation de la classe pt, qui permet de représenter des points et des vecteurs."
   ]
  },
  {
   "cell_type": "code",
   "execution_count": null,
   "metadata": {},
   "outputs": [],
   "source": [
    "tolerance = 1**(-7) #un petit flottant\n",
    "\n",
    "class pt:\n",
    "    def __init__(self,x=0.0,y=0.0):\n",
    "        self.x = x\n",
    "        self.y = y\n",
    "    \n",
    "    def __repr__(self):\n",
    "        return('{'+str(self.x)+','+str(self.y)+'}')\n",
    "        \n",
    "    def __mul__(a,b):\n",
    "        if isinstance(b,int) or isinstance(b,float):\n",
    "            return pt(a.x*b,a.y*b)\n",
    "        else:\n",
    "            return pt(a.x*b.x,a.y*b.y)\n",
    "            \n",
    "    def __rmul__(a,b):\n",
    "        if isinstance(a,int) or isinstance(a,float):\n",
    "            return pt(a*b.x,a*b.y)\n",
    "        else:\n",
    "            return a*b\n",
    "    def __neg__(self):\n",
    "        return pt(-self.x,-self.y)\n",
    "        \n",
    "    def __add__(a,b):\n",
    "        return pt(a.x+b.x,a.y+b.y)  \n",
    "    \n",
    "    def __inv__(self):\n",
    "        return pt(1/self.x,1/self.y)\n",
    "    \n",
    "    def __div__(self,b):\n",
    "        return (self * (1/b))\n",
    "    \n",
    "    def __rdiv__(self,b):\n",
    "        return pt(b.x/self,b.y/self)\n",
    "    \n",
    "    def norme(self):\n",
    "        return (self.x**2 + self.y**2)**0.5\n",
    "\n",
    "    def normalized(self):\n",
    "        return(self*(1/(self.norme())))\n",
    "        \n",
    "    def __sub__(self,b):\n",
    "        return self+ (-b)\n",
    "        \n",
    "    def orth(self):\n",
    "        return pt(-self.y,self.x)\n",
    "\n",
    "def list_x_y(p):\n",
    "    x,y = [],[]\n",
    "    for i in p:\n",
    "        x.append(i.x)\n",
    "        y.append(i.y)\n",
    "    return(np.array(x),np.array(y))\n",
    "    \n",
    "def dist(a,b):\n",
    "    return (a-b).norme()\n",
    "    \n",
    "def grad(f,p=pt()):\n",
    "    autog = autograd.grad\n",
    "    t = np.r_[autog(f,0)(p.x,p.y),autog(f,1)(p.x,p.y)]\n",
    "    return pt(t[0],t[1])"
   ]
  },
  {
   "cell_type": "markdown",
   "metadata": {},
   "source": [
    "Nous implementons maintenant la fonction ingrid : ingrid(p,grid) renvoie : p $\\in$ grid ou grid est en fait un ensemble de la forme [a,b]x[c,d] où (a,b,c,d) $\\in \\mathbb{R}^4$."
   ]
  },
  {
   "cell_type": "code",
   "execution_count": null,
   "metadata": {},
   "outputs": [],
   "source": [
    "def ingrid(p,grid):\n",
    "    return(grid[0]<=p.x<=grid[1] and grid[2]<=p.y<=grid[3])    "
   ]
  },
  {
   "cell_type": "markdown",
   "metadata": {},
   "source": [
    "Notre première implémentation se basait uniquement sur une methode qui utilise le gradient : on a calculé un point de la ligne de niveau, on suit l'orthogonal du gradient de norme delta dans la direction qui ne nous fait pas revenir en arrière (le point parmis les deux possibles qui est le plus loin de celui qu'on avait calculé avant), et on continue ainsi.\n",
    "Mais cette méthode propage les erreurs, car rien n'assure qu'on reste sur la ligne de niveau, même si les résultats obtenus sont plutot satisfaisants pour des fonctions assez régulières si delta est petit. "
   ]
  },
  {
   "cell_type": "markdown",
   "metadata": {},
   "source": [
    "Les fonctions suivantes permettent de se reperer sur un cercle de rayon delta centre sur un point p0."
   ]
  },
  {
   "cell_type": "code",
   "execution_count": null,
   "metadata": {},
   "outputs": [],
   "source": [
    "def p_a1(ang):\n",
    "    \"\"\"\n",
    "    Cette fonction calcule le point p sur le cercle unite tel que l'angle oriente (pt(1,0),p) vale ang\n",
    "    \"\"\"\n",
    "    return(pt(np.cos(ang),np.sin(ang)))    \n",
    "\n",
    "def rad(p):\n",
    "    \"\"\"\n",
    "    Cette fonction calcule l'angle oriente (pt(1,0),p)\n",
    "    \"\"\"\n",
    "    pn = p.normalized()\n",
    "    x = pn.x\n",
    "    y = pn.y\n",
    "    if y > 0:\n",
    "        return np.arccos(x)\n",
    "    else:\n",
    "        return -np.arccos(x)\n",
    "    \n",
    "def theta(p0,p):\n",
    "    \"\"\"\n",
    "    calcule l'angle oriente (p0+pt(delta,0),p) ou delta = dist(p0,p)\n",
    "    \"\"\"\n",
    "    return rad(p) - rad(p0)\n",
    "\n",
    "def p_a(p0,th,delta):\n",
    "    \"\"\"\n",
    "    calcule le point p tel que dist(p,p0) = delta et theta(p0,p) = th\n",
    "    \"\"\"\n",
    "    p = delta*p_a1(th)\n",
    "    return(p0+p)"
   ]
  },
  {
   "cell_type": "markdown",
   "metadata": {},
   "source": [
    "Nous avons d'abord pensé à utiliser la méthode de newton à une dimension. Pour cela on cherche le point $n+1$ de la suite dans un cercle de rayon delta autour du point n. Chaque point du cercle est alors défini par un angle $\\theta$, compté dans le sens direct. En utilisant la relation entre $\\theta$ et les coordonnées du point $(x,y)$ sur le cerle on définit une fonction d'une variable $g(\\theta)=f(x,y)$ pour tout $(x,y)$ dans le cercle qui nous intéresse. On applique alors la méthode de newton à la fonction $g$. Pour les conversions entre point et angle on utilise les fonctions précédentes.\n",
    "\n",
    "La fonction suivant permet d'obtenir une première approximation du point $n+1$ en utilisant la méthode du gradient. Elle prend en argument f la fonction dont on veut tracer les lignes de niveau, ad l'avant-dernier point de notre liste de points, d le dernier point calculé, delta la distance entre deux points de la suite et grid la grille dont on ne doit pas sortir pour tracer les lignes de niveau. L'hortogonal au gradient nous donne deux directions dans lesquelles nous pouvons aller (dans la majorité des cas, sauf point particulier). Afin d'éviter de revenir sur nos pas nous choisissons celle qui nous amène le plus loin de l'avant-dernier point. "
   ]
  },
  {
   "cell_type": "code",
   "execution_count": null,
   "metadata": {},
   "outputs": [],
   "source": [
    "def suivant(f, ad, d, delta, grid):\n",
    "    h=grad(f,d[0])\n",
    "    p11 = d[0] + (h.normalized().orth() * delta)\n",
    "    p12 = d[0] - (h.normalized().orth() * delta)   #on utilise le gradient pour aller au prochain point  \n",
    "    p1=pt()                                               #mais sans sortir de la grille\n",
    "\n",
    "    if dist(ad[0], p11)> dist(ad[0], p12):\n",
    "        if ingrid(p11,grid):\n",
    "            p1=p11\n",
    "        else:\n",
    "            raise ValueError(\"on sort de la grille\")           \n",
    "    else:\n",
    "        if ingrid(p12,grid):\n",
    "            p1=p12\n",
    "        else:\n",
    "            raise ValueError(\"on sort de la grille\")\n",
    "    prochain=theta(d[0],p1)\n",
    "    return((p1,prochain))"
   ]
  },
  {
   "cell_type": "markdown",
   "metadata": {},
   "source": [
    "On corrige ensuite la valeur obtenue en utlisant la méthode des tangentes de Newton à la fonction g définie plus haut. \n",
    "On se place dans un cercle de rayon delta autour de du dernier point de la liste, le point obtenu grâce à suivant \n",
    "est le premier de la suite. \n",
    "On définit g et sa dérivée dg. Elles prennent pour argument $x$ le dernier point de la liste (on cherche le nouveau point dans un cercle de rayon delta autour de $x$), $\\theta_{n}$ l'angle entre le point $x_{n}$ de la suite de Newton et $x$, $d$ le rayon du cercle et revoient $g(\\theta_{n})$ (resp. $dg(\\theta_{n})$)."
   ]
  },
  {
   "cell_type": "code",
   "execution_count": null,
   "metadata": {},
   "outputs": [],
   "source": [
    "def g(x, theta, d=0.01) :\n",
    "    return f(x.x+d*np.cos(theta), x.y+d*np.sin(theta))\n",
    "def dg(x, theta, d=0.01):\n",
    "    return (-d*np.sin(theta)*autograd.grad(f,0)(x.x+d*np.cos(theta),x.y+d*np.sin(theta)) + d*np.cos(theta)*autograd.grad(f,1)(x.x+d*np.cos(theta),x.y+d*np.sin(theta)))"
   ]
  },
  {
   "cell_type": "markdown",
   "metadata": {},
   "source": [
    "Voici la fonction Newton qui prend en argument $r$ le centre du cercle dans lequel on cherche le prochain point, $d = [x_{n},\\theta_{n}]$, $delta$ le rayon du cercle, $c$ la valeur qu'a la fonction sur la ligne de niveau et renvoie $d = [x_{n+1},\\theta_{n+1}]$"
   ]
  },
  {
   "cell_type": "code",
   "execution_count": null,
   "metadata": {},
   "outputs": [],
   "source": [
    "def newton(r, d, delta, c):\n",
    "    derivee=dg(r, d[1],delta)                                  \n",
    "    if abs(derivee) < 10**(-26):\n",
    "        print(\"la dérivée est trop petite\") #si la dérivée s'annule on renvoie la dernière valeur calculée avec Newton\n",
    "        return (d[0],d[1])                                  \n",
    "    else:\n",
    "        return (p_a(r, d[1]-(g(r, d[1],delta) - c)/derivee, delta),d[1]-(g(r,d[1],delta) - c)/derivee)"
   ]
  },
  {
   "cell_type": "markdown",
   "metadata": {},
   "source": [
    "On peut maintenant écrire simple_contour_un. Elle prend en arguments $f$ dont on trace la ligne de niveau, $c$ la valeur de $f$ sur cette ligne, $delta$ la distance entre deux points consécutifs de la ligne, $grid$ la grille dans laquelle on trace la ligne de niveau et $cote$ la fonction qui indique sur quel côté de la grille chercher le premier point de la ligne de niveau."
   ]
  },
  {
   "cell_type": "code",
   "execution_count": null,
   "metadata": {},
   "outputs": [],
   "source": [
    "def simple_contour_un(f,c=0.0,delta=0.01,grid=[0.,1.,0.,1.],cote=lambda x:f(grid[0],x)):\n",
    "    t = find_seed(cote,c)\n",
    "    if t == None:\n",
    "        return [],[]\n",
    "    p0 = pt(grid[0],find_seed(cote,c))\n",
    "    g0 = grad(f,p=p0)\n",
    "    p11 = p0 + (g0.normalized().orth() * delta)\n",
    "    p12 = p0 - (g0.normalized().orth() * delta)\n",
    "\n",
    "    p1 = pt()\n",
    "    \n",
    "    if ingrid(p11,grid):\n",
    "        p1 = p11\n",
    "    elif ingrid(p12,grid):\n",
    "        p1 = p12\n",
    "    else:\n",
    "        return [],[]\n",
    "    \n",
    "    t1=theta(p0,p1) #pi --> point    ti --> angle\n",
    "    \n",
    "    p2, t2 = newton(p1, [p1, t1], delta, c)\n",
    "    \n",
    "    pa = p0 #avant-avant dernier point calculé\n",
    "    ta = 0.\n",
    "    pb = p1 #avant-dernier\n",
    "    tb = t1\n",
    "    pc = p2 #dernier point calculé\n",
    "    tc = t2\n",
    "    \n",
    "    pts=[p0, p1]\n",
    "    ref=p1  #ref représente le dernier point enregistré dans la liste. On cherche le prochain point dans un cercle \n",
    "                #de rayon delta, en première approximation avec suivant puis en corrigeant grâce à newton\n",
    "\n",
    "    try :\n",
    "        while dist(pc,pa) >= delta/2 and len(pts)<10000:\n",
    "        \n",
    "            pb, tb = newton(ref, [pa,ta], delta, c)\n",
    "            pc, tc = newton(ref, [pb,tb], delta, c)\n",
    "\n",
    "            while dist(pc,pb)>10**(-15):\n",
    "                pa = pb    \n",
    "                ta = tb\n",
    "                pb = pc\n",
    "                tb = tc\n",
    "                pc, tc = newton(ref, [pb,tb], delta, c)  #on cherche le point sur le cercle avec newton\n",
    "  \n",
    "            if not ingrid(pc,grid):\n",
    "                return list_x_y(pts)\n",
    "            else:\n",
    "                pd = pts[-1]\n",
    "                td = theta(pts[-2],pd)\n",
    "                ref = pc\n",
    "                pts.append(pc)\n",
    "                pa, ta = suivant(f, [pd,td], [pc,tc], delta, grid) #on change de point avec suivant\n",
    " \n",
    "    except ValueError as e:\n",
    "        print(e)\n",
    "    return list_x_y(pts)"
   ]
  },
  {
   "cell_type": "markdown",
   "metadata": {},
   "source": [
    "Cependant cette fonction ne marche pas dans tous les cas et nous n'avons pas réussi à la débugger :"
   ]
  },
  {
   "cell_type": "code",
   "execution_count": null,
   "metadata": {
    "scrolled": true
   },
   "outputs": [],
   "source": [
    "def f(x,y):\n",
    "    return(x**2+y**2)\n",
    "\n",
    "plt.axis('equal')\n",
    "grid1=[-1.,1.,-1.,1.]\n",
    "\n",
    "s=simple_contour_un(f, c=1.2, grid=grid1, cote=lambda x:f(grid1[0],x))\n",
    "plt.plot(s[0],s[1])"
   ]
  },
  {
   "cell_type": "markdown",
   "metadata": {},
   "source": [
    "Une autre idée consiste à travailler avec le gradient de f pour se rapprocher de la ligne de niveau.\n",
    "\n",
    "On utilise une méthode semblable à la méthode de Newton en dimension 1, cette methode est d'ailleurs une généralisation si on considère $\\mathbb{R}$ comme un espace vectoriel de dimension 1, et en identifiant $\\frac{1}{f'}$ à $\\frac{\\nabla f(p_{0})}{\\|\\nabla f(p_{0})\\|^2}$.\n",
    "\n",
    "Le principe est le suivant : soit $p_{0}$ $\\in \\mathbb{R}^2$ , et $f$ : $\\mathbb{R}^2 \\rightarrow \\mathbb{R}$, continuement différentiable. \n",
    "\n",
    "On cherche h tel que $f$($p_{0}$ + h) = $o$(h). On ne peut pas vraiment aller plus loin car $f$ est seulement supposée continuement différentiable. \n",
    "\n",
    "On sait que $f(p_{0}+h) = f(p_{0}) + <\\nabla f(p_{0})|h> + o(h)$.\n",
    "\n",
    "Ainsi, si $\\nabla f(p_{0}) \\ne 0$, il suffit de poser $h(p_{0}) = \\frac{-f(p_{0}) * \\nabla f(p_{0})}{\\|\\nabla f(p_{0})\\|^2}$.\n",
    "\n",
    "On peut ainsi créer une suite qui est sensée converger vers une solution $s$ de l'équation $f(x) = 0$ en posant $p_{0}$ un point proche de la ligne de niveau (obtenu par exemple en suivant l'orthogonal du gradient), et en posant pour tout $n \\in \\mathbb{N}, p_{n+1} = p_{n+1} + h(p_{n})$."
   ]
  },
  {
   "cell_type": "code",
   "execution_count": null,
   "metadata": {},
   "outputs": [],
   "source": [
    "def newton2d(f,p0,c,eps=10**-4):\n",
    "    def fun(x,y):\n",
    "        return (f(x,y)-c)\n",
    "    def proch(p): #proch joue le role de l'application contractante pour l'application du theoreme du point fixe\n",
    "        g = grad(f,p)\n",
    "        return(p - (fun(p.x,p.y)/(g.norme()**2))*g)\n",
    "    p1 = proch(p0)\n",
    "    while dist(p0,p1) > eps:\n",
    "        p0 = p1\n",
    "        p1 = proch(p1)\n",
    "    return(p1)"
   ]
  },
  {
   "cell_type": "markdown",
   "metadata": {},
   "source": [
    "Malheureusement, cette solution ne produit pas de résultat satisfaisant, car rien ne garantit qu'on ne revient pas en arrière sur la ligne de niveau, c'est à dire qu'on a calculé des points de la ligne de niveau, le dernier calculé étant $p_{n}$, et l'avant dernier $p_{n-1}$. On veut calculer p{n+1}, qui soit à peu près éloigné de delta de $p_{n}$. Mais cette méthode n'assure pas que $p_{n+1}$ ne soit pas proche de $p_{n-1}$...\n",
    "\n",
    "Nous avons donc implémenté une méthode dichotomique.\n",
    "\n",
    "Le principe de cette méthode est le suivant:\n",
    "\n",
    "Le dernier point calculé est $p_{n}$, l'avant dernier point calculé est $p_{n-1}$.\n",
    "\n",
    "On cherche $p_{n+1}$ sur une portion cercle de centre $p_{n}$ et de rayon delta par une methode dichotomique.\n",
    "\n",
    "Cette portion est définie ainsi : On pose $\\theta_{0} = rad(p_{n}-p_{n-1}$, et on fait une recherche dichotomique classique sur $t \\rightarrow g(f,p_{n},t + \\theta_{0} ,delta)$ sur un intervalle $[-\\pi+\\epsilon,\\pi-\\epsilon]$, ce qui assure que $p_{n+1} \\ne p_{n-1}$ (si ce point existe, rien ne l'assure)."
   ]
  },
  {
   "cell_type": "code",
   "execution_count": null,
   "metadata": {},
   "outputs": [],
   "source": [
    "def g(f,p0,theta,d) :\n",
    "    return f(p0.x+d*np.cos(theta),p0.y+d*np.sin(theta))\n",
    "\n",
    "def dichotoproch(f,c,delta,ad,d):\n",
    "    ang = rad(d-ad)\n",
    "    def rech(th):\n",
    "        return g(f,d,th+ang,delta)\n",
    "    a = -np.pi + delta\n",
    "    b =  np.pi - delta\n",
    "    while b-a > delta:\n",
    "        m = (a+b)/2\n",
    "        if (rech(m)-c)*(rech(a)-c)<=0:\n",
    "            b = m\n",
    "        else:\n",
    "            a = m\n",
    "    t = (a+b)/2\n",
    "    return p_a(d,t+ang,delta)"
   ]
  },
  {
   "cell_type": "markdown",
   "metadata": {},
   "source": [
    "Il reste une subtilité. Cette méthode nécessite un avant dernier point... \n",
    "Comment calculer le deuxième point (le premier étant fourni par find_seed)?\n",
    "Nous avons choisi de prendre le deuxième point en suivant l'orthogonal du gradient, cela fournit un point éloigné de delta du premier point, et proche de la ligne de niveau cherchée. Comme c'est le seul calculé de cette manière, il n'y a pas de problème de propagation des erreurs."
   ]
  },
  {
   "cell_type": "code",
   "execution_count": null,
   "metadata": {},
   "outputs": [],
   "source": [
    "def simple_contour(f,c=0.0, delta =0.01,grid = [0.0,1.0,0.0,1.0],cote= lambda x: f(0.0,x),i = 0): #i designe le cote de la grille : il appartient à [|0,3|]\n",
    "    t = find_seed(cote,c)\n",
    "    if t == None:\n",
    "        return [],[]\n",
    "    p0 = pt()\n",
    "    \n",
    "    if i == 0:\n",
    "        p0 = pt(grid[0],grid[2]+(grid[3]-grid[2])*t)\n",
    "    elif i == 1:\n",
    "        p0 = pt(grid[0]+(grid[1]-grid[0])*t,grid[3])\n",
    "    elif i == 2:\n",
    "        p0 = pt(grid[1],grid[2]+(grid[3]-grid[2])*t)\n",
    "    elif i == 3:\n",
    "        p0 = pt(grid[0]+(grid[1]-grid[0])*t,grid[2])\n",
    "        \n",
    "    g0 = grad(f,p0)\n",
    "    p11 = p0 + (g0.normalized().orth() * delta)\n",
    "    p12 = p0 - (g0.normalized().orth() * delta)\n",
    "    p1 = pt()\n",
    "    if ingrid(p11,grid):\n",
    "        p1 = p11\n",
    "    elif ingrid(p12,grid):\n",
    "        p1 = p12\n",
    "    else:\n",
    "        return [],[]\n",
    "    p2 = dichotoproch(f,c,delta,p0,p1)\n",
    "    pts = [p0,p1,p2]\n",
    "    pa = p0 #avant-avant dernier point calculé\n",
    "    pb = p1 #avant-dernier\n",
    "    pc = p2 #dernier point calculé\n",
    "    compt = 0\n",
    "    while dist(pc,p0) > delta and dist(pc,pa) > delta and compt < 100000:\n",
    "        compt += 1\n",
    "        pa = pb\n",
    "        pb = pc\n",
    "        pc = dichotoproch(f,c,delta,pa,pb)\n",
    "        pts.append(pc)\n",
    "        if not ingrid(pc,grid):\n",
    "            return list_x_y(pts)\n",
    "    return list_x_y(pts)    "
   ]
  },
  {
   "cell_type": "markdown",
   "metadata": {},
   "source": [
    "grid, cote et i sont des arguments optionnels, utilisés par contour complexe.\n",
    "Ils permettent de préciser sur quel côté de la grille on veut chercher une amorce : \n",
    "\n",
    "i = 0 signifie qu'on cherche une amorce sur la gauche de la grille.\n",
    "\n",
    "i = 1 signifie qu'on cherche une amorce sur le haut de la grille.\n",
    "\n",
    "i = 2 signifie qu'on cherche une amorce sur la droite de la grille.\n",
    "\n",
    "i = 3 signifie qu'on cherche une amorce sur le bas de la grille."
   ]
  },
  {
   "cell_type": "markdown",
   "metadata": {},
   "source": [
    "## Contour complexe"
   ]
  },
  {
   "cell_type": "markdown",
   "metadata": {},
   "source": [
    "On veut maintenant quadriller notre espace pour trouver des amorces ailleurs pour les lignes de niveau.\n",
    "On va appeler contour_simple sur ces grilles.\n",
    "On définit la fonction bord, qui renvoie une fonction $[0,1] \\rightarrow \\mathbb{R}$, qui va nous servir à trouver une amorce pour chacun des 4 côtés de la cellule."
   ]
  },
  {
   "cell_type": "code",
   "execution_count": null,
   "metadata": {},
   "outputs": [],
   "source": [
    "def bord(f,grid,n):\n",
    "                \"\"\"\n",
    "                bord(f,p1,p2,n) renvoie une application partielle qui va etre utilisee par find_seed pour trouver une amorce a une ligne de niveau.\n",
    "                \"\"\"\n",
    "                if n == 0:\n",
    "                    return(lambda t: f(grid[0],grid[2]+(grid[3]-grid[2])*t))\n",
    "                elif n == 1:\n",
    "                    return(lambda t: f(grid[0]+(grid[1]-grid[0])*t,grid[3]))\n",
    "                elif n == 2:\n",
    "                    return(lambda t: f(grid[1],grid[2]+(grid[3]-grid[2])*t))\n",
    "                elif n == 3:\n",
    "                    return(lambda t: f(grid[0]+(grid[1]-grid[0])*t,grid[2]))\n",
    "            \n",
    "def contour(f,c=0.0,xc=[0.0,1.0],yc=[0.0,1.0],delta = 0.01):\n",
    "    xs,ys = [],[]\n",
    "    for i in range(len(xc)-1):\n",
    "        for j in range(len(yc)-1):\n",
    "            grid = [xc[i],xc[i+1],yc[j],yc[j+1]]\n",
    "            \n",
    "            for n in range(4):    \n",
    "                appp = bord(f,grid,n)\n",
    "                x,y = simple_contour(f,c,delta,grid,appp,n)\n",
    "                xs.append(x)\n",
    "                ys.append(y)\n",
    "    return(xs,ys)"
   ]
  },
  {
   "cell_type": "markdown",
   "metadata": {},
   "source": [
    "Cette fonction pourrait être mieux optimisée : en général, quand une ligne de niveau entre par un côté d'une case, elle ressort par un côté différent. Il est alors inutile de chercher une amorce sur ce côté.\n",
    "Cela pourrait améliorer la vitesse de l'algorithme d'un facteur 2."
   ]
  },
  {
   "cell_type": "code",
   "execution_count": null,
   "metadata": {},
   "outputs": [],
   "source": [
    "def f(x,y):\n",
    "    return x**2 + y**2"
   ]
  },
  {
   "cell_type": "markdown",
   "metadata": {},
   "source": [
    "Contour simple : "
   ]
  },
  {
   "cell_type": "code",
   "execution_count": null,
   "metadata": {},
   "outputs": [],
   "source": [
    "plt.axis(\"equal\")\n",
    "si = simple_contour(f,0.3)\n",
    "plt.plot(si[0],si[1])\n",
    "plt.show()"
   ]
  },
  {
   "cell_type": "markdown",
   "metadata": {},
   "source": [
    "Contour complexe :"
   ]
  },
  {
   "cell_type": "code",
   "execution_count": null,
   "metadata": {},
   "outputs": [],
   "source": [
    "grille_x = np.linspace(-2,2,20)\n",
    "grille_y = np.linspace(-2,2,20)\n",
    "\n",
    "xs,ys = contour(f,1,grille_x,grille_y,0.001)\n",
    "\n",
    "for x,y in zip(xs,ys):\n",
    "    plt.plot(x,y)\n",
    "plt.axis(\"equal\")\n",
    "plt.show()"
   ]
  },
  {
   "cell_type": "markdown",
   "metadata": {},
   "source": [
    "## Conclusion"
   ]
  },
  {
   "cell_type": "markdown",
   "metadata": {},
   "source": [
    "La méthode dichotomique semble fiable, puisqu'elle nous garantit de ne pas retourner sur nos pas.\n",
    "\n",
    "En revanche, il faut s'assurer que l'on respecte les hypothèses du théorème des valeurs intermédiaires.\n",
    "\n",
    "Ces conditions sont souvent respectées, mais ne le sont pas si on veut tracer les lignes de niveau d'un maximum ou d'un minimum local.\n",
    "Mais cela produit aussi une annulation du gradient, donc il faudrait utiliser une methode plus complexe."
   ]
  }
 ],
 "metadata": {
  "kernelspec": {
   "display_name": "Python 3",
   "language": "python",
   "name": "python3"
  },
  "language_info": {
   "codemirror_mode": {
    "name": "ipython",
    "version": 3
   },
   "file_extension": ".py",
   "mimetype": "text/x-python",
   "name": "python",
   "nbconvert_exporter": "python",
   "pygments_lexer": "ipython3",
   "version": "3.7.3"
  }
 },
 "nbformat": 4,
 "nbformat_minor": 2
}
