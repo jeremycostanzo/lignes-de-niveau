{
 "cells": [
  {
   "cell_type": "code",
   "execution_count": 1,
   "metadata": {
    "collapsed": true
   },
   "outputs": [],
   "source": [
    "import autograd\n",
    "from autograd import numpy as np\n",
    "from matplotlib import pyplot as plt\n",
    "%matplotlib inline\n",
    "import scipy\n",
    "from scipy import optimize"
   ]
  },
  {
   "cell_type": "code",
   "execution_count": 2,
   "metadata": {
    "collapsed": true
   },
   "outputs": [],
   "source": [
    "def f(x,y):\n",
    "    return(x**2+y**2)"
   ]
  },
  {
   "cell_type": "code",
   "execution_count": 45,
   "metadata": {
    "collapsed": true
   },
   "outputs": [],
   "source": [
    "def g(x, theta, d=0.01) :\n",
    "    return f(x.x+d*np.cos(theta), x.y+d*np.sin(theta))\n",
    "def dg(x, theta, d=0.01):\n",
    "    return (-d*np.sin(theta)*autograd.grad(f,0)(x.x+d*np.cos(theta),x.y+d*np.sin(theta)) + d*np.cos(theta)*autograd.grad(f,1)(x.x+d*np.cos(theta),x.y+d*np.sin(theta)))"
   ]
  },
  {
   "cell_type": "code",
   "execution_count": 102,
   "metadata": {},
   "outputs": [
    {
     "name": "stdout",
     "output_type": "stream",
     "text": [
      "True\n"
     ]
    },
    {
     "data": {
      "image/png": "[encoded data removed]",
      "text/plain": [
       "<matplotlib.figure.Figure at 0x2508cf6c550>"
      ]
     },
     "metadata": {},
     "output_type": "display_data"
    }
   ],
   "source": [
    "X=np.linspace(-54.,1.,100)\n",
    "Y=[dg(pt(-1.0,0.4472135975956917), x) for x in X]\n",
    "plt.plot(X,Y)\n",
    "print(0.01 >= 0.01)"
   ]
  },
  {
   "cell_type": "code",
   "execution_count": 5,
   "metadata": {
    "collapsed": true
   },
   "outputs": [],
   "source": [
    "class pt:\n",
    "    def __init__(self,x=0.0,y=0.0):\n",
    "        self.x = x\n",
    "        self.y = y\n",
    "    \n",
    "    def __repr__(self):\n",
    "        return('{'+str(self.x)+','+str(self.y)+'}')\n",
    "        \n",
    "    def __mul__(a,b):\n",
    "        if isinstance(b,int) or isinstance(b,float):\n",
    "            return pt(a.x*b,a.y*b)\n",
    "        else:\n",
    "            return pt(a.x*b.x,a.y*b.y)\n",
    "            \n",
    "    def __rmul__(a,b):\n",
    "        if isinstance(a,int) or isinstance(a,float):\n",
    "            return pt(a*b.x,a*b.y)\n",
    "        else:\n",
    "            return a*b\n",
    "    def __neg__(self):\n",
    "        return pt(-self.x,-self.y)\n",
    "        \n",
    "    def __add__(a,b):\n",
    "        return pt(a.x+b.x,a.y+b.y)  \n",
    "    \n",
    "    def __inv__(self):\n",
    "        return pt(1/self.x,1/self.y)\n",
    "    \n",
    "    def __div__(self,b):\n",
    "        return (self * (1/b))\n",
    "    \n",
    "    def __rdiv__(b,self):\n",
    "        return pt(self.x/b,self.y/b)\n",
    "    \n",
    "    def norme(self):\n",
    "        return (self.x**2 + self.y**2)**0.5\n",
    "\n",
    "    def normalized(self):\n",
    "        return(self*(1/(self.norme())))\n",
    "        \n",
    "    def __sub__(self,b):\n",
    "        return self+ (-b)\n",
    "        \n",
    "    def orth(self):\n",
    "        return pt(-self.y,self.x)\n",
    "\n",
    "def list_x_y(p):\n",
    "    x,y = [],[]\n",
    "    for i in p:\n",
    "        x.append(i.x)\n",
    "        y.append(i.y)\n",
    "    return(np.array(x),np.array(y))\n",
    "    \n",
    "def dist(a,b):\n",
    "    return (a-b).norme()\n",
    "    \n",
    "def ingrid(p,grid):\n",
    "    return(grid[0]<=p.x<=grid[1] and grid[2]<=p.y<=grid[3])\n",
    "\n",
    "def grad(f,p=pt()):\n",
    "    g = autograd.grad\n",
    "    t = np.r_[g(f,0)(p.x,p.y),g(f,1)(p.x,p.y)]\n",
    "    return pt(t[0],t[1])"
   ]
  },
  {
   "cell_type": "code",
   "execution_count": 6,
   "metadata": {
    "collapsed": true
   },
   "outputs": [],
   "source": [
    "def p_a1(ang):\n",
    "    \"\"\"\n",
    "    Cette fonction calcule le point p sur le cercle unite tel que l'angle oriente (pt(1,0),p) vale ang\n",
    "    \"\"\"\n",
    "    return(pt(np.cos(ang),np.sin(ang)))    \n",
    "\n",
    "def rad(p):\n",
    "    \"\"\"\n",
    "    Cette fonction calcule l'angle oriente (pt(1,0),p)\n",
    "    \"\"\"\n",
    "    x = p.x\n",
    "    y = p.y\n",
    "    if abs(x)>abs(y):\n",
    "        if y >= 0:\n",
    "            return(np.arccos(x))\n",
    "        else:\n",
    "            return(-np.arccos(x))\n",
    "    else:\n",
    "        if x >= 0:\n",
    "            return(np.arcsin(y))\n",
    "        else:\n",
    "            return(np.pi-np.arcsin(y))\n",
    "    \n",
    "def theta(p0,p):\n",
    "    \"\"\"\n",
    "    calcule l'angle oriente (p0+pt(delta,0),p) ou delta = dist(p0,p)\n",
    "    \"\"\"\n",
    "    de = dist(p0,p)\n",
    "    return(rad((1/de)*(p-p0)))\n",
    "\n",
    "def p_a(p0,th,delta):\n",
    "    \"\"\"\n",
    "    calcule le point p tel que dist(p,p0) = delta et theta(p0,p) = th\n",
    "    \"\"\"\n",
    "    p = delta*p_a1(th)\n",
    "    return(p0+p)"
   ]
  },
  {
   "cell_type": "code",
   "execution_count": 7,
   "metadata": {
    "collapsed": true
   },
   "outputs": [],
   "source": [
    "def find_seed(g,c=0,eps=2**(-26)):\n",
    "    if (g(0)-c)*(g(1)-c) > 0:\n",
    "        return None\n",
    "    else:\n",
    "        a = 0\n",
    "        b = 1\n",
    "        while b-a > eps:\n",
    "            m = (a+b)/2\n",
    "            if (g(m)-c)*(g(a)-c)<=0:\n",
    "                b = m\n",
    "            else:\n",
    "                a = m\n",
    "        t = (a+b)/2\n",
    "        return t"
   ]
  },
  {
   "cell_type": "code",
   "execution_count": 153,
   "metadata": {
    "collapsed": true
   },
   "outputs": [],
   "source": [
    "def suivant(f, ad, d, delta, grid):\n",
    "    h=grad(f,d[0])\n",
    "    p11 = d[0] + (h.normalized().orth() * delta)\n",
    "    p12 = d[0] - (h.normalized().orth() * delta)   #on utilise le gradient pour aller au prochain point  \n",
    "    p1=pt()                                               #mais sans sortir de la grille\n",
    "\n",
    "    if dist(ad[0], p11)> dist(ad[0], p12):\n",
    "        if ingrid(p11,grid):\n",
    "            p1=p11\n",
    "        else:\n",
    "            print(\"p11 est plus loin\", \"p11\", p11, \"p12\",p12)\n",
    "            raise ValueError(\"on boucle\")\n",
    "    else:\n",
    "        if ingrid(p12,grid):\n",
    "            p1=p12\n",
    "        else:\n",
    "            print(\"p12 est plus loin\", \"p11\", p11, \"p12\",p12)\n",
    "            raise ValueError(\"on boucle\")\n",
    "    prochain=theta(d[0],p1)\n",
    "    return((p1,prochain))"
   ]
  },
  {
   "cell_type": "code",
   "execution_count": 88,
   "metadata": {},
   "outputs": [],
   "source": [
    "def newton(r, ad, d, delta, c):\n",
    "    derivee=dg(r, d[1],delta)                                  \n",
    "    if abs(derivee) < 10**(-26):\n",
    "        print(\"la dérivée est trop petite\")\n",
    "        return (d[0],d[1])                 \n",
    "    else:\n",
    "        return (p_a(r, d[1]-(g(r, d[1],delta) - c)/derivee, delta),d[1]-(g(r,d[1],delta) - c)/derivee)"
   ]
  },
  {
   "cell_type": "code",
   "execution_count": 172,
   "metadata": {
    "collapsed": true
   },
   "outputs": [],
   "source": [
    "def simple_contourtrois(f,c=0.0,delta=0.01,grid=[0.,1.,0.,1.],cote=lambda x:f(grid[0],x)):\n",
    "    t = find_seed(cote,c)\n",
    "    if t == None:\n",
    "        return [],[]\n",
    "    p0 = pt(grid[0],find_seed(cote,c))\n",
    "    g0 = grad(f,p=p0)\n",
    "    p11 = p0 + (g0.normalized().orth() * delta)\n",
    "    p12 = p0 - (g0.normalized().orth() * delta)\n",
    "\n",
    "    p1 = pt()\n",
    "    \n",
    "    if ingrid(p11,grid):\n",
    "        p1 = p11\n",
    "    elif ingrid(p12,grid):\n",
    "        p1 = p12\n",
    "    else:\n",
    "        return [],[]\n",
    "    \n",
    "    t1=theta(p0,p1) #pi --> point    ti --> angle\n",
    "    \n",
    "    p2, t2 = newton(p1, [p0,0.], [p1, t1], delta, c)\n",
    "    \n",
    "    pa = p0 #avant-avant dernier point calculé\n",
    "    ta = 0.\n",
    "    pb = p1 #avant-dernier\n",
    "    tb = t1\n",
    "    pc = p2 #dernier point calculé\n",
    "    tc = t2\n",
    "\n",
    "    pts=[p0, p1]\n",
    "    ref=p1\n",
    "  #  if dist(pc,pb)>10**(-12):\n",
    "      #  pts = [pa]\n",
    "      #  tc=theta(p1,p2)\n",
    "\n",
    "  #  else:\n",
    "      #  pts=[pa,pb]\n",
    "      #  tc=0.\n",
    "      #  ref=pb\n",
    "\n",
    "    try :\n",
    "        while dist(pc,pa) >= delta/2 and len(pts)<100:\n",
    "        \n",
    "            pb, tb = newton(ref, [pc,tc], [pa,ta], delta, c)\n",
    "            pc, tc = newton(ref, [pa,ta], [pb,tb], delta, c)\n",
    "\n",
    "            while dist(pc,pb)>10**(-5):\n",
    "                pa = pb    \n",
    "                ta = tb\n",
    "                pb = pc\n",
    "                tb = tc\n",
    "                pc, tc = newton(ref, [pa,ta], [pb,tb], delta, c)  #on cherche le nouveau point à partir du dernier\n",
    "                print(\"pc\",pc)\n",
    "                print(ingrid(pc,grid))\n",
    "            \n",
    "            if not ingrid(pc,grid):\n",
    "                return list_x_y(pts)\n",
    "            else:\n",
    "                pts.append(pc)\n",
    "                ref = pc\n",
    "            \n",
    "                pd = pts[-1]\n",
    "                td = theta(pts[-2],pd)\n",
    "                pa, ta = suivant(f, [pd,td], [pc,tc], delta, grid) #on change de point\n",
    " \n",
    "    except ValueError as e:\n",
    "        print(e)\n",
    "    print(len(pts))\n",
    "    return list_x_y(pts)"
   ]
  },
  {
   "cell_type": "code",
   "execution_count": 173,
   "metadata": {},
   "outputs": [
    {
     "name": "stdout",
     "output_type": "stream",
     "text": [
      "pc {-1.0,7.45058059692e-09}\n",
      "False\n"
     ]
    },
    {
     "data": {
      "text/plain": [
       "[<matplotlib.lines.Line2D at 0x2508fce2d30>]"
      ]
     },
     "execution_count": 173,
     "metadata": {},
     "output_type": "execute_result"
    },
    {
     "data": {
      "image/png": "[encoded data removed]",
      "text/plain": [
       "<matplotlib.figure.Figure at 0x2508fce2d68>"
      ]
     },
     "metadata": {},
     "output_type": "display_data"
    }
   ],
   "source": [
    "plt.axis('equal')\n",
    "grid1=[-1.,1.,-1.,1.]\n",
    "s = simple_contourtrois(f, c=1.0,grid=grid1, cote=lambda x:f(grid1[0],x))\n",
    "plt.plot(s[0],s[1])"
   ]
  },
  {
   "cell_type": "code",
   "execution_count": 174,
   "metadata": {},
   "outputs": [
    {
     "name": "stdout",
     "output_type": "stream",
     "text": [
      "True\n"
     ]
    }
   ],
   "source": [
    "print(ingrid(pt(-1.0,7.45058059692e-09), [-1.,1.,-1.,1.]))"
   ]
  },
  {
   "cell_type": "code",
   "execution_count": 12,
   "metadata": {
    "collapsed": true
   },
   "outputs": [],
   "source": [
    "def simple_contourdeux(f,c=0.0,delta=0.01,grid=[0.,1.,0.,1.],cote=lambda x:f(0.,x)):\n",
    "    t = find_seed(cote,c)\n",
    "    if t == None:\n",
    "        return [],[]\n",
    "    p0 = pt(grid[0],t)\n",
    "    g0 = grad(f,p=p0)\n",
    "    p11 = p0 + (g0.normalized().orth() * delta)\n",
    "    p12 = p0 - (g0.normalized().orth() * delta)\n",
    "    p1 = pt()\n",
    "    \n",
    "    if ingrid(p11,grid):\n",
    "        p1 = p11\n",
    "    elif ingrid(p12,grid):\n",
    "        p1 = p12\n",
    "    else:\n",
    "        return [],[]\n",
    "    t1=theta(p0,p1)    #pi --> point    ti --> angle\n",
    "    pts=[p0,p1]\n",
    "    while len(pts)<100000:\n",
    "        t1 = scipy.optimize.newton(g, t1, fprime=dg)\n",
    "        p1 = p_a(p1, t1, delta)\n",
    "        if not ingrid(p1,grid):\n",
    "            return list_x_y(pts)\n",
    "        else:\n",
    "            pts.append(p1)\n",
    "        p1, t1 = suivant(f, [p1,t1], delta, grid) #on change de point\n",
    "    return list_x_y(pts)"
   ]
  },
  {
   "cell_type": "code",
   "execution_count": 19,
   "metadata": {},
   "outputs": [
    {
     "name": "stdout",
     "output_type": "stream",
     "text": [
      "0.01\n",
      "0.01\n",
      "{-0.996083475731,0.456418351132} 4.27359925298\n"
     ]
    },
    {
     "name": "stderr",
     "output_type": "stream",
     "text": [
      "C:\\Users\\top\\Anaconda3\\lib\\site-packages\\scipy\\optimize\\zeros.py:142: RuntimeWarning: derivative was zero.\n",
      "  warnings.warn(msg, RuntimeWarning)\n"
     ]
    },
    {
     "data": {
      "text/plain": [
       "[<matplotlib.lines.Line2D at 0x1e4da0fd550>]"
      ]
     },
     "execution_count": 19,
     "metadata": {},
     "output_type": "execute_result"
    },
    {
     "data": {
      "image/png": "[encoded data removed]",
      "text/plain": [
       "<matplotlib.figure.Figure at 0x1e4da0fdda0>"
      ]
     },
     "metadata": {},
     "output_type": "display_data"
    }
   ],
   "source": [
    "plt.axis('equal')\n",
    "grid1=[-1.,1.,-1.,1.]\n",
    "s = simple_contourdeux(f, c=1.2,grid=grid1, cote=lambda x:f(grid1[0],x))\n",
    "plt.plot(s[0],s[1])"
   ]
  }
 ],
 "metadata": {
  "kernelspec": {
   "display_name": "Python 3",
   "language": "python",
   "name": "python3"
  },
  "language_info": {
   "codemirror_mode": {
    "name": "ipython",
    "version": 3
   },
   "file_extension": ".py",
   "mimetype": "text/x-python",
   "name": "python",
   "nbconvert_exporter": "python",
   "pygments_lexer": "ipython3",
   "version": "3.6.3"
  }
 },
 "nbformat": 4,
 "nbformat_minor": 2
}
