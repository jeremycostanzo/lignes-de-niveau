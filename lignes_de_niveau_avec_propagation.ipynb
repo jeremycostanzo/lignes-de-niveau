{
 "cells": [
  {
   "cell_type": "markdown",
   "metadata": {},
   "source": [
    "# Projet Lignes de niveau"
   ]
  },
  {
   "cell_type": "markdown",
   "metadata": {},
   "source": [
    "On importe ces modules par principe de precaution"
   ]
  },
  {
   "cell_type": "code",
   "execution_count": 3,
   "metadata": {},
   "outputs": [],
   "source": [
    "import autograd\n",
    "from autograd import numpy as np\n",
    "from matplotlib import pyplot as plt\n",
    "%matplotlib inline"
   ]
  },
  {
   "cell_type": "markdown",
   "metadata": {},
   "source": [
    " Ceci est le notebook Jupyter contenant le projet de dessin de lignes de niveau sous python de Maud Roux-Salembien et Jérémy Costanzo"
   ]
  },
  {
   "cell_type": "markdown",
   "metadata": {},
   "source": [
    "Soit f une fonction de $[0,1]^2$ vers $\\mathbb{R}$ supposée continuement différentiable.\n",
    "\n",
    "On cherche les ensembles de la forme : {$(x,y)\\in\\mathbb{R}^2|f(x,y)=c$} où c $\\in$ $\\mathbb{R}$"
   ]
  },
  {
   "cell_type": "code",
   "execution_count": 4,
   "metadata": {},
   "outputs": [
    {
     "data": {
      "text/plain": [
       "5"
      ]
     },
     "execution_count": 4,
     "metadata": {},
     "output_type": "execute_result"
    }
   ],
   "source": [
    "def f(x,y):\n",
    "    return(x**2+y**2)\n",
    "f(1,2)"
   ]
  },
  {
   "cell_type": "markdown",
   "metadata": {},
   "source": [
    "## <u>Contour simple</u>"
   ]
  },
  {
   "cell_type": "markdown",
   "metadata": {},
   "source": [
    "### Amorce : "
   ]
  },
  {
   "cell_type": "markdown",
   "metadata": {},
   "source": [
    "Soit c $\\in$ $\\mathbb{R}$\n",
    "\n",
    "On cherche une condition suffisante sur f(0,0) et f(0,1) pour qu'il existe t $\\in$ [0,1] tel que f(0,t) = c\n",
    "\n",
    "On sait que f est continuement différentiable, donc en particulier f(0,.), qui désigne la fonction $\\begin{align*}\n",
    "  [0,1] &\\to \\mathbb{R}\\\\\n",
    "  t &\\mapsto f(0,t).\n",
    "\\end{align*}$\n",
    "est continue.\n",
    "\n",
    "\n",
    "Ainsi, si c appartient au segment [min(f(0,0),f(0,1)),max(f(0,0),f(0,1))], le théorème des valeurs intermédiaires nous assure l'existence d'un t $\\in$ [0,1] solution de f(0,t) = c.\n",
    "\n",
    "Si la condition évoquée est satisfaite, on peut chercher numériquement une solution en utilisant la méthode de la dichotomie :"
   ]
  },
  {
   "cell_type": "code",
   "execution_count": 5,
   "metadata": {},
   "outputs": [],
   "source": [
    "def find_seed(g,c=0,eps=2**(-26)):\n",
    "    if (g(0)-c)*(g(1)-c) > 0:\n",
    "        return None\n",
    "    else:\n",
    "        a = 0\n",
    "        b = 1\n",
    "        while b-a > eps:\n",
    "            m = (a+b)/2\n",
    "            if (g(m)-c)*(g(a)-c)<=0:\n",
    "                b = m\n",
    "            else:\n",
    "                a = m\n",
    "        t = (a+b)/2\n",
    "        return t"
   ]
  },
  {
   "cell_type": "markdown",
   "metadata": {},
   "source": [
    "La méthode des tangentes de Newton converge plus rapidement, mais nécessite plus d'hypothèses, et on ne peut pas savoir à quel point on est éloigné d'une solution, alors que la méthode de la dichotomie ne nécessite que la continuité de g, et permet de majorer la distance à une solution."
   ]
  },
  {
   "cell_type": "markdown",
   "metadata": {},
   "source": [
    "### Propagation"
   ]
  },
  {
   "cell_type": "markdown",
   "metadata": {},
   "source": [
    "Une première approche pour implémenter la fonction simple_contour consisterait à subdiviser [0,1] en segments de taille $\\delta$, et d'utiliser find_seed(g,c,eps) où g est la fonction $\\begin{align*}\n",
    "  [0,1] &\\to \\mathbb{R}\\\\\n",
    "  t &\\mapsto f(k\\delta,t)\n",
    "\\end{align*}$ où k varie de 0 à int(1/$\\delta$). Mais cela n'est pas satisfaisant, il faudrait réaliser environ 1/$\\delta$ dichotomies, et l'équation f(k$\\delta$,t) = c peut admettre plusieurs solutions éloignées les unes des autres.\n",
    "\n",
    "Pour la suite, nous avons besoin de calculer le gradient de f en un point. Ainsi nous implementons une classe pt qui permet de representer des elements de $\\mathbb{R}^2$, donc des points ou des vecteurs."
   ]
  },
  {
   "cell_type": "code",
   "execution_count": 6,
   "metadata": {},
   "outputs": [],
   "source": [
    "tolerance = 1**(-12) #un petit flottant, choisi un peu au pif pour l'instant...\n",
    "\n",
    "class pt:\n",
    "    def __init__(self,x=0.0,y=0.0):\n",
    "        self.x = x\n",
    "        self.y = y\n",
    "    \n",
    "    def __repr__(self):\n",
    "        return('{'+str(self.x)+','+str(self.y)+'}')\n",
    "        \n",
    "    def __mul__(a,b):\n",
    "        if isinstance(b,int) or isinstance(b,float):\n",
    "            return pt(a.x*b,a.y*b)\n",
    "        else:\n",
    "            return pt(a.x*b.x,a.y*b.y)\n",
    "            \n",
    "    def __rmul__(a,b):\n",
    "        if isinstance(a,int) or isinstance(a,float):\n",
    "            return pt(a*b.x,a*b.y)\n",
    "        else:\n",
    "            return a*b\n",
    "    def __neg__(self):\n",
    "        return pt(-self.x,-self.y)\n",
    "        \n",
    "    def __add__(a,b):\n",
    "        return pt(a.x+b.x,a.y+b.y)  \n",
    "    \n",
    "    def __inv__(self):\n",
    "        return pt(1/self.x,1/self.y)\n",
    "    \n",
    "    def __div__(self,b):\n",
    "        return (self * (1/b))\n",
    "    \n",
    "    def __rdiv__(self,b):\n",
    "        return pt(b.x/self,b.y/self)\n",
    "    \n",
    "    def norme(self):\n",
    "        return (self.x**2 + self.y**2)**0.5\n",
    "\n",
    "    def normalized(self):\n",
    "        return(self*(1/(self.norme())))\n",
    "        \n",
    "    def __sub__(self,b):\n",
    "        return self+ (-b)\n",
    "        \n",
    "    def orth(self):\n",
    "        return pt(-self.y,self.x)\n",
    "\n",
    "def list_x_y(p):\n",
    "    x,y = [],[]\n",
    "    for i in p:\n",
    "        x.append(i.x)\n",
    "        y.append(i.y)\n",
    "    return(np.array(x),np.array(y))\n",
    "    \n",
    "def dist(a,b):\n",
    "    return (a-b).norme()\n",
    "    \n",
    "def app(p,grid):\n",
    "    return(grid[0]<=p.x<=grid[1] and grid[2]<=p.y<=grid[3])\n",
    "\n",
    "def grad(p=pt()):\n",
    "    g = autograd.grad\n",
    "    t = np.r_[g(f,0)(p.x,p.y),g(f,1)(p.x,p.y)]\n",
    "    return pt(t[0],t[1])"
   ]
  },
  {
   "cell_type": "markdown",
   "metadata": {},
   "source": [
    "Nous implementons maintenant la fonction app : app(p,grid) renvoie : p $\\in$ grid ou grid est en fait un ensemble de la forme [a,b]x[c,d] où (a,b,c,d) $\\in \\mathbb{R}^4$.\n",
    "\n",
    "\n",
    "La fonction suivant est definie ainsi : suivant(ad,d,delta) est le point suivant de la ligne de niveau ou ad est l'avant dernier point calcule, d le dernier point calcule et delta est la distance entre les points de la ligne de niveau.\n",
    "\n",
    "Cela nous permet d'implementer la fonction demandee, soit simple_contour(c,delta): on s'arrete de calculer des points si on revient au debut ou si les 3 derniers points calcules sont contenus dans un disque de diametre delta, car alors nous devenons imprecis (on peut imaginer que la ligne de niveau soit une spirale, ainsi on ne s'arreterait jamais de calculer des points).\n",
    "\n",
    "On s'arrete aussi de calculer si on sort de la grille [0,1]x[0,1]"
   ]
  },
  {
   "cell_type": "code",
   "execution_count": 15,
   "metadata": {},
   "outputs": [],
   "source": [
    "def app(p,grid):\n",
    "    return(grid[0]<=p.x<=grid[1] and grid[2]<=p.y<=grid[3])\n",
    "\n",
    "grid = [-1.,1.,-1.,1.]\n",
    "\n",
    "def suivant(ad,d,delta):\n",
    "    g = grad(d)\n",
    "    n = g.normalized().orth() * delta\n",
    "    p1 = d + n\n",
    "    p2 = d - n\n",
    "    if dist(p1,ad) > dist(p2,ad):\n",
    "        return p1\n",
    "    else:\n",
    "        return p2\n",
    "    \n",
    "def simple_contour(c,delta):\n",
    "    t = find_seed(lambda x:f(0.0,x),c)\n",
    "    if t == None:\n",
    "        return [],[]\n",
    "    p0 = pt(0.0,find_seed(lambda x:f(0.0,x),c))\n",
    "    g0 = grad(p0)\n",
    "    p11 = p0 + (g0.normalized().orth() * delta)\n",
    "    p12 = p0 - (g0.normalized().orth() * delta)\n",
    "    p1 = pt()\n",
    "    if app(p11,grid):\n",
    "        p1 = p11\n",
    "    elif app(p12,grid):\n",
    "        p1 = p12\n",
    "    else:\n",
    "        return [],[]\n",
    "    p2 = suivant(p0,p1,delta)\n",
    "    pts = [p0,p1,p2]\n",
    "    pa = p0\n",
    "    pb = p1\n",
    "    pc = p2\n",
    "    while dist(pc,p0) > delta and dist(pc,pa) > delta and len(pts)<100000:\n",
    "        p = suivant(pb,pc,delta)\n",
    "        if not app(p,grid):\n",
    "            return list_x_y(pts)\n",
    "        else:\n",
    "            pts.append(p)\n",
    "            pa = pb\n",
    "            pb = pc\n",
    "            pc = p\n",
    "    return list_x_y(pts)"
   ]
  },
  {
   "cell_type": "code",
   "execution_count": 16,
   "metadata": {
    "scrolled": true
   },
   "outputs": [
    {
     "data": {
      "text/plain": [
       "[<matplotlib.lines.Line2D at 0x1e983af5cc0>]"
      ]
     },
     "execution_count": 16,
     "metadata": {},
     "output_type": "execute_result"
    },
    {
     "data": {
      "image/png": "[encoded data removed]",
      "text/plain": [
       "<Figure size 432x288 with 1 Axes>"
      ]
     },
     "metadata": {
      "needs_background": "light"
     },
     "output_type": "display_data"
    }
   ],
   "source": [
    "i = 5\n",
    "plt.axis('equal')\n",
    "si = simple_contour((0.1*i)**2,0.0001)\n",
    "plt.plot(si[0],si[1])"
   ]
  }
 ],
 "metadata": {
  "kernelspec": {
   "display_name": "Python 3",
   "language": "python",
   "name": "python3"
  },
  "language_info": {
   "codemirror_mode": {
    "name": "ipython",
    "version": 3
   },
   "file_extension": ".py",
   "mimetype": "text/x-python",
   "name": "python",
   "nbconvert_exporter": "python",
   "pygments_lexer": "ipython3",
   "version": "3.7.2"
  }
 },
 "nbformat": 4,
 "nbformat_minor": 2
}
