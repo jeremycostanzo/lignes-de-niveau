{
 "cells": [
  {
   "cell_type": "markdown",
   "metadata": {},
   "source": [
    "# Projet Lignes de niveau"
   ]
  },
  {
   "cell_type": "markdown",
   "metadata": {},
   "source": [
    "On importe ces modules par principe de precaution"
   ]
  },
  {
   "cell_type": "code",
   "execution_count": 5,
   "metadata": {},
   "outputs": [],
   "source": [
    "import autograd\n",
    "from autograd import numpy as np\n",
    "from matplotlib import pyplot as plt\n",
    "%matplotlib inline"
   ]
  },
  {
   "cell_type": "markdown",
   "metadata": {},
   "source": [
    " Ceci est le notebook Jupyter contenant le projet de dessin de lignes de niveau sous python de Maud Roux-Salembien et Jérémy Costanzo"
   ]
  },
  {
   "cell_type": "markdown",
   "metadata": {},
   "source": [
    "Soit f une fonction de $[0,1]^2$ vers $\\mathbb{R}$ supposée continuement différentiable.\n",
    "\n",
    "On cherche les ensembles de la forme : {$(x,y)\\in\\mathbb{R}^2|f(x,y)=c$} où c $\\in$ $\\mathbb{R}$\n",
    "\n"
   ]
  },
  {
   "cell_type": "markdown",
   "metadata": {},
   "source": [
    "## <u>Contour simple</u>"
   ]
  },
  {
   "cell_type": "markdown",
   "metadata": {},
   "source": [
    "### Amorce : "
   ]
  },
  {
   "cell_type": "markdown",
   "metadata": {},
   "source": [
    "Soit c $\\in$ $\\mathbb{R}$\n",
    "\n",
    "On cherche une condition suffisante sur f(0,0) et f(0,1) pour qu'il existe t $\\in$ [0,1] tel que f(0,t) = c\n",
    "\n",
    "On sait que f est continuement différentiable, donc en particulier f(0,.), qui désigne la fonction $\\begin{align*}\n",
    "  [0,1] &\\to \\mathbb{R}\\\\\n",
    "  t &\\mapsto f(0,t).\n",
    "\\end{align*}$\n",
    "est continue.\n",
    "\n",
    "\n",
    "Ainsi, si c appartient au segment [min(f(0,0),f(0,1)),max(f(0,0),f(0,1))], le théorème des valeurs intermédiaires nous assure l'existence d'un t $\\in$ [0,1] solution de f(0,t) = c.\n",
    "\n",
    "Si la condition évoquée est satisfaite, on peut chercher numériquement une solution en utilisant la méthode de la dichotomie :"
   ]
  },
  {
   "cell_type": "code",
   "execution_count": 6,
   "metadata": {},
   "outputs": [],
   "source": [
    "def find_seed(g,c=0,eps=2**(-26)):\n",
    "    if (g(0)-c)*(g(1)-c) > 0:\n",
    "        return None\n",
    "    else:\n",
    "        a = 0\n",
    "        b = 1\n",
    "        while b-a > eps:\n",
    "            m = (a+b)/2\n",
    "            if (g(m)-c)*(g(a)-c)<=0:\n",
    "                b = m\n",
    "            else:\n",
    "                a = m\n",
    "        t = (a+b)/2\n",
    "        return t"
   ]
  },
  {
   "cell_type": "markdown",
   "metadata": {},
   "source": [
    "La méthode des tangentes de Newton converge plus rapidement, mais nécessite plus d'hypothèses, et on ne peut pas savoir à quel point on est éloigné d'une solution, alors que la méthode de la dichotomie ne nécessite que la continuité de g, et permet de majorer la distance à une solution."
   ]
  },
  {
   "cell_type": "markdown",
   "metadata": {},
   "source": [
    "### Propagation"
   ]
  },
  {
   "cell_type": "markdown",
   "metadata": {},
   "source": [
    "Une première approche pour implémenter la fonction simple_contour consisterait à subdiviser [0,1] en segments de taille $\\delta$, et d'utiliser find_seed(g,c,eps) où g est la fonction $\\begin{align*}\n",
    "  [0,1] &\\to \\mathbb{R}\\\\\n",
    "  t &\\mapsto f(k\\delta,t)\n",
    "\\end{align*}$ où k varie de 0 à int(1/$\\delta$). Mais cela n'est pas satisfaisant, il faudrait réaliser environ 1/$\\delta$ dichotomies, et l'équation f(k$\\delta$,t) = c peut admettre plusieurs solutions éloignées les unes des autres.\n",
    "\n",
    "Pour la suite, nous avons besoin de calculer le gradient de f en un point. Ainsi nous implementons une classe pt qui permet de representer des elements de $\\mathbb{R}^2$, donc des points ou des vecteurs."
   ]
  },
  {
   "cell_type": "code",
   "execution_count": 7,
   "metadata": {},
   "outputs": [],
   "source": [
    "tolerance = 1**(-7) #un petit flottant, choisi un peu au pif pour l'instant...\n",
    "\n",
    "class pt:\n",
    "    def __init__(self,x=0.0,y=0.0):\n",
    "        self.x = x\n",
    "        self.y = y\n",
    "    \n",
    "    def __repr__(self):\n",
    "        return('{'+str(self.x)+','+str(self.y)+'}')\n",
    "        \n",
    "    def __mul__(a,b):\n",
    "        if isinstance(b,int) or isinstance(b,float):\n",
    "            return pt(a.x*b,a.y*b)\n",
    "        else:\n",
    "            return pt(a.x*b.x,a.y*b.y)\n",
    "            \n",
    "    def __rmul__(a,b):\n",
    "        if isinstance(a,int) or isinstance(a,float):\n",
    "            return pt(a*b.x,a*b.y)\n",
    "        else:\n",
    "            return a*b\n",
    "    def __neg__(self):\n",
    "        return pt(-self.x,-self.y)\n",
    "        \n",
    "    def __add__(a,b):\n",
    "        return pt(a.x+b.x,a.y+b.y)  \n",
    "    \n",
    "    def __inv__(self):\n",
    "        return pt(1/self.x,1/self.y)\n",
    "    \n",
    "    def __div__(self,b):\n",
    "        return (self * (1/b))\n",
    "    \n",
    "    def __rdiv__(self,b):\n",
    "        return pt(b.x/self,b.y/self)\n",
    "    \n",
    "    def norme(self):\n",
    "        return (self.x**2 + self.y**2)**0.5\n",
    "\n",
    "    def normalized(self):\n",
    "        return(self*(1/(self.norme())))\n",
    "        \n",
    "    def __sub__(self,b):\n",
    "        return self+ (-b)\n",
    "        \n",
    "    def orth(self):\n",
    "        return pt(-self.y,self.x)\n",
    "\n",
    "def list_x_y(p):\n",
    "    x,y = [],[]\n",
    "    for i in p:\n",
    "        x.append(i.x)\n",
    "        y.append(i.y)\n",
    "    return(np.array(x),np.array(y))\n",
    "    \n",
    "def dist(a,b):\n",
    "    return (a-b).norme()\n",
    "    \n",
    "def grad(f,p=pt()):\n",
    "    autog = autograd.grad\n",
    "    t = np.r_[autog(f,0)(p.x,p.y),autog(f,1)(p.x,p.y)]\n",
    "    return pt(t[0],t[1])"
   ]
  },
  {
   "cell_type": "markdown",
   "metadata": {},
   "source": [
    "Nous implementons maintenant la fonction ingrid : ingrid(p,grid) renvoie : p $\\in$ grid ou grid est en fait un ensemble de la forme [a,b]x[c,d] où (a,b,c,d) $\\in \\mathbb{R}^4$."
   ]
  },
  {
   "cell_type": "code",
   "execution_count": 8,
   "metadata": {},
   "outputs": [],
   "source": [
    "def ingrid(p,grid):\n",
    "    return(grid[0]<=p.x<=grid[1] and grid[2]<=p.y<=grid[3])    "
   ]
  },
  {
   "cell_type": "markdown",
   "metadata": {},
   "source": [
    "Les fonctions suivantes permettent de se reperer sur un cercle de rayon delta centre sur un point p0."
   ]
  },
  {
   "cell_type": "code",
   "execution_count": 9,
   "metadata": {},
   "outputs": [],
   "source": [
    "def p_a1(ang):\n",
    "    \"\"\"\n",
    "    Cette fonction calcule le point p sur le cercle unite tel que l'angle oriente (pt(1,0),p) vale ang\n",
    "    \"\"\"\n",
    "    return(pt(np.cos(ang),np.sin(ang)))    \n",
    "\n",
    "def rad(p):\n",
    "    \"\"\"\n",
    "    Cette fonction calcule l'angle oriente (pt(1,0),p)\n",
    "    \"\"\"\n",
    "    pn = p.normalized()\n",
    "    x = pn.x\n",
    "    y = pn.y\n",
    "    if y > 0:\n",
    "        return np.arccos(x)\n",
    "    else:\n",
    "        return -np.arccos(x)\n",
    "    \n",
    "def theta(p0,p):\n",
    "    \"\"\"\n",
    "    calcule l'angle oriente (p0+pt(delta,0),p) ou delta = dist(p0,p)\n",
    "    \"\"\"\n",
    "    return rad(p) - rad(p0)\n",
    "\n",
    "def p_a(p0,th,delta):\n",
    "    \"\"\"\n",
    "    calcule le point p tel que dist(p,p0) = delta et theta(p0,p) = th\n",
    "    \"\"\"\n",
    "    p = delta*p_a1(th)\n",
    "    return(p0+p)\n",
    "\n",
    "def newton(f,p0,c,eps=10**-4):\n",
    "    def fun(x,y):\n",
    "        return (f(x,y)-c)\n",
    "    def proch(p): #proch joue le role de l'application contractante pour l'application du theoreme du point fixe\n",
    "        g = grad(f,p)\n",
    "        return(p - (fun(p.x,p.y)/(g.norme()**2))*g)\n",
    "    p1 = proch(p0)\n",
    "    while dist(p0,p1) > eps:\n",
    "        p0 = p1\n",
    "        p1 = proch(p1)\n",
    "    return(p1)\n",
    "\n",
    "def g(f,p0,theta,d) :\n",
    "    return f(p0.x+d*np.cos(theta),p0.y+d*np.sin(theta))\n",
    "\n",
    "def dichotoproch(f,c,delta,ad,d):\n",
    "    ref = (d - ad) + d\n",
    "    ang = theta(d + pt(delta,0),ref)\n",
    "    def rech(th):\n",
    "        return g(f,d,th-ang,delta)\n",
    "    a = -np.pi + delta\n",
    "    b =  np.pi - delta\n",
    "    while b-a > delta:\n",
    "        m = (a+b)/2\n",
    "        if (rech(m)-c)*(rech(a)-c)<=0:\n",
    "            b = m\n",
    "        else:\n",
    "            a = m\n",
    "    t = (a+b)/2\n",
    "    return p_a(d,t+ang,delta)"
   ]
  },
  {
   "cell_type": "code",
   "execution_count": 10,
   "metadata": {},
   "outputs": [
    {
     "data": {
      "text/plain": [
       "0.6857295109062861"
      ]
     },
     "execution_count": 10,
     "metadata": {},
     "output_type": "execute_result"
    }
   ],
   "source": [
    "theta(pt(1,1),pt(0.2,2))"
   ]
  },
  {
   "cell_type": "markdown",
   "metadata": {},
   "source": [
    "Description de suivant, de la methode des tangentes, contour simple..."
   ]
  },
  {
   "cell_type": "code",
   "execution_count": 11,
   "metadata": {},
   "outputs": [],
   "source": [
    "def suivant(f,ad,d,c,delta):\n",
    "    p0 = d + delta*grad(f,d).normalized().orth()\n",
    "    p1 = d - delta*grad(f,d).normalized().orth()\n",
    "    s = pt()\n",
    "    if dist(p0,ad) > dist(p1,ad):\n",
    "        s = p0\n",
    "    else:\n",
    "        s = p1\n",
    "    pr = newton(f,s,c,delta*tolerance)\n",
    "    return(pr)\n",
    "\n",
    "def simple_contour(f,c=0.0, delta =0.01,grid = [0.0,1.0,-1.0,1.0],cote= lambda x: f(0,x),i = 0): #i designe le cote de la grille : il appartient à [|0,3|]\n",
    "    t = find_seed(cote,c)\n",
    "    if t == None:\n",
    "        return [],[]\n",
    "    p0 = pt()\n",
    "    if i < 2:\n",
    "        p0 = pt(grid[i],find_seed(cote,c))\n",
    "    else:\n",
    "        p0 = pt(find_seed(cote,c),grid[i])\n",
    "    g0 = grad(f,p0)\n",
    "    p11 = p0 + (g0.normalized().orth() * delta)\n",
    "    p12 = p0 - (g0.normalized().orth() * delta)\n",
    "    p1t = pt()\n",
    "    if ingrid(p11,grid):\n",
    "        p1t = p11\n",
    "    elif ingrid(p12,grid):\n",
    "        p1t = p12\n",
    "    else:\n",
    "        return [],[]\n",
    "    p1 = newton(f,p1t,c,tolerance*delta)\n",
    "    p2 = suivant(f,p0,p1,c,delta)\n",
    "    pts = [p0,p1,p2]\n",
    "    pa = p0 #avant-avant dernier point calculé\n",
    "    pb = p1 #avant-dernier\n",
    "    pc = p2 #dernier point calculé\n",
    "    compt = 0\n",
    "    while dist(pc,p0) > delta and dist(pc,pa) > delta and compt < 100000:\n",
    "        compt += 1\n",
    "        pa = pb\n",
    "        pb = pc\n",
    "        #pc = suivant(f,pb,pc,c,delta)\n",
    "        pc = dichotoproch(f,c,delta,pa,pb)\n",
    "        pts.append(pc)\n",
    "        if not ingrid(pc,grid):\n",
    "            return list_x_y(pts)\n",
    "        #else:\n",
    "        #    if dist(pc,pa) > delta/2:\n",
    "        #        pts.append(pc)\n",
    "        #    else:\n",
    "        #        pc = dichotoproch(f,c,delta,pa,pb)\n",
    "        #        pts.append(pc)\n",
    "    return list_x_y(pts)    "
   ]
  },
  {
   "cell_type": "code",
   "execution_count": 12,
   "metadata": {},
   "outputs": [
    {
     "data": {
      "text/plain": [
       "[<matplotlib.lines.Line2D at 0x7f107c3e1710>]"
      ]
     },
     "execution_count": 12,
     "metadata": {},
     "output_type": "execute_result"
    },
    {
     "data": {
      "image/png": "[encoded data removed]",
      "text/plain": [
       "<Figure size 432x288 with 1 Axes>"
      ]
     },
     "metadata": {
      "needs_background": "light"
     },
     "output_type": "display_data"
    }
   ],
   "source": [
    "def f(x,y):\n",
    "    return x**2 + y**2\n",
    "plt.axis(\"equal\")\n",
    "si = simple_contour(f,0.5)\n",
    "plt.plot(si[0],si[1])"
   ]
  },
  {
   "cell_type": "markdown",
   "metadata": {},
   "source": [
    "## Contour complexe"
   ]
  },
  {
   "cell_type": "markdown",
   "metadata": {},
   "source": [
    "On veut maintenant quadriller notre espace pour trouver des amorces ailleurs pour les lignes de niveau.\n",
    "On va appeler contour_simple sur ces grilles.\n",
    "On définit la fonction bord, qui renvoie une fonction $[0,1] \\rightarrow \\mathbb{R}$, qui va nous servir à trouver une amorce pour chacun des 4 côtés de la cellule."
   ]
  },
  {
   "cell_type": "code",
   "execution_count": 27,
   "metadata": {},
   "outputs": [],
   "source": [
    "def bord(f,p1,p2,n):\n",
    "                \"\"\"\n",
    "                bord(f,p1,p2,n) renvoie une application partielle qui va etre utilisee par find_seed pour trouver une amorce a une ligne de niveau.\n",
    "                \"\"\"\n",
    "                if n == 0:\n",
    "                    return(lambda x: f(p1.x,p2.y + (p1.y-p2.y)*x))\n",
    "                elif n == 1:\n",
    "                    return(lambda x: f(p1.x + (p2.x-p1.x)*x,p1.y))\n",
    "                elif n == 2:\n",
    "                    return(lambda t: f(p2.x, p2.y + (p1.y-p2.y)*t))\n",
    "                elif n == 3:\n",
    "                    return(lambda t: f(p1.x + (p2.x-p1.x)*t, p2.y))\n",
    "            \n",
    "#def contour(f,c=0.0,xc=[0.0,1.0],yc=[0.0,1.0],delta = 0.01):\n",
    "#    xs,ys = [],[]\n",
    "#    for i in range(len(xc)-1):\n",
    "#        for j in range(len(yc)-1):\n",
    "#            grid = [xc[i],yc[j],xc[i+1],yc[j+1]]\n",
    "#            p1 = pt(xc[i],yc[i])\n",
    "#            p2 = pt(xc[i+1],yc[j+1])\n",
    "#            \n",
    "#            for n in range(4):    \n",
    "#                appp = bord(f,p1,p2,n)\n",
    "#                x,y = simple_contour(f,c,delta,grid,appp,n)\n",
    "#                xs.append(x)\n",
    "#                ys.append(y)\n",
    "#    return(xs,ys)"
   ]
  },
  {
   "cell_type": "code",
   "execution_count": 28,
   "metadata": {},
   "outputs": [],
   "source": [
    "# Rotators\n",
    "# ------------------------------------------------------------------------------\n",
    "LEFT, UP, RIGHT, DOWN = 0, 1, 2, 3  # clockwise\n",
    "\n",
    "\n",
    "def rotate_direction(direction, n=1):\n",
    "    return (direction + n) % 4\n",
    "\n",
    "\n",
    "def rotate(x, y, n=1):\n",
    "    if n == 0:\n",
    "        return x, y\n",
    "    elif n >= 1:\n",
    "        return rotate(1 - y, x, n - 1)\n",
    "    else:\n",
    "        assert n < 0\n",
    "        return rotate(x, y, n=-3 * n)\n",
    "\n",
    "\n",
    "def rotate_function(f, n=1):\n",
    "    def rotated_function(x, y):\n",
    "        xr, yr = rotate(x, y, -n)\n",
    "        return f(xr, yr)\n",
    "\n",
    "    return rotated_function\n",
    "\n",
    "\n",
    "# Complex Contouring\n",
    "# ------------------------------------------------------------------------------\n",
    "\n",
    "# Customize the simple_contour function used in contour :\n",
    "# simple_contour = smart_simple_contour\n",
    "\n",
    "\n",
    "def contour(f, c, xs=[0.0, 1.0], ys=[0.0, 1.0], delta=0.01):\n",
    "    curves = []\n",
    "    nx, ny = len(xs), len(ys)\n",
    "    for i in range(nx - 1):\n",
    "        for j in range(ny - 1):\n",
    "            xmin, xmax = xs[i], xs[i + 1]\n",
    "            ymin, ymax = ys[j], ys[j + 1]\n",
    "\n",
    "            def f_cell(x, y):\n",
    "                return f(xmin + (xmax - xmin) * x, ymin + (ymax - ymin) * y)\n",
    "\n",
    "            done = set()\n",
    "            for n in [0, 1, 2, 3]:\n",
    "                if n not in done:\n",
    "                    rotated_f_cell = rotate_function(f_cell, n)\n",
    "                    x_curve_r, y_curve_r = simple_contour(rotated_f_cell, c, delta)\n",
    "                    exit = None\n",
    "                    if len(x_curve_r) >= 1:\n",
    "                        xf, yf = x_curve_r[-1], y_curve_r[-1]\n",
    "                        if xf == 0.0:\n",
    "                            exit = LEFT\n",
    "                        elif xf == 1.0:\n",
    "                            exit = RIGHT\n",
    "                        elif yf == 0.0:\n",
    "                            exit = DOWN\n",
    "                        elif yf == 1.0:\n",
    "                            exit = UP\n",
    "                    if exit is not None:  # a fully successful contour fragment\n",
    "                        exit = rotate_direction(exit, n)\n",
    "                        done.add(exit)\n",
    "\n",
    "                    x_curve, y_curve = [], []\n",
    "                    for x_r, y_r in zip(x_curve_r, y_curve_r):\n",
    "                        x, y = rotate(x_r, y_r, n=-n)\n",
    "                        x_curve.append(x)\n",
    "                        y_curve.append(y)\n",
    "                    x_curve = np.array(x_curve)\n",
    "                    y_curve = np.array(y_curve)\n",
    "                    curves.append(\n",
    "                        (xmin + (xmax - xmin) * x_curve, ymin + (ymax - ymin) * y_curve)\n",
    "                    )\n",
    "    return curves\n"
   ]
  },
  {
   "cell_type": "code",
   "execution_count": 40,
   "metadata": {},
   "outputs": [
    {
     "ename": "ValueError",
     "evalue": "too many values to unpack (expected 2)",
     "output_type": "error",
     "traceback": [
      "\u001b[0;31m---------------------------------------------------------------------------\u001b[0m",
      "\u001b[0;31mValueError\u001b[0m                                Traceback (most recent call last)",
      "\u001b[0;32m<ipython-input-40-bcb5ec20b194>\u001b[0m in \u001b[0;36m<module>\u001b[0;34m\u001b[0m\n\u001b[1;32m      2\u001b[0m \u001b[0mgrille_y\u001b[0m \u001b[0;34m=\u001b[0m \u001b[0mnp\u001b[0m\u001b[0;34m.\u001b[0m\u001b[0mlinspace\u001b[0m\u001b[0;34m(\u001b[0m\u001b[0;34m-\u001b[0m\u001b[0;36m5\u001b[0m\u001b[0;34m,\u001b[0m\u001b[0;36m5\u001b[0m\u001b[0;34m,\u001b[0m\u001b[0;36m20\u001b[0m\u001b[0;34m)\u001b[0m\u001b[0;34m\u001b[0m\u001b[0;34m\u001b[0m\u001b[0m\n\u001b[1;32m      3\u001b[0m \u001b[0;34m\u001b[0m\u001b[0m\n\u001b[0;32m----> 4\u001b[0;31m \u001b[0mxs\u001b[0m\u001b[0;34m,\u001b[0m\u001b[0mys\u001b[0m \u001b[0;34m=\u001b[0m \u001b[0mcontour\u001b[0m\u001b[0;34m(\u001b[0m\u001b[0mf\u001b[0m\u001b[0;34m,\u001b[0m\u001b[0;36m1\u001b[0m\u001b[0;34m,\u001b[0m\u001b[0mgrille_x\u001b[0m\u001b[0;34m,\u001b[0m\u001b[0mgrille_y\u001b[0m\u001b[0;34m,\u001b[0m\u001b[0;36m0.01\u001b[0m\u001b[0;34m)\u001b[0m\u001b[0;34m\u001b[0m\u001b[0;34m\u001b[0m\u001b[0m\n\u001b[0m\u001b[1;32m      5\u001b[0m \u001b[0;34m\u001b[0m\u001b[0m\n\u001b[1;32m      6\u001b[0m \u001b[0;32mfor\u001b[0m \u001b[0mx\u001b[0m\u001b[0;34m,\u001b[0m\u001b[0my\u001b[0m \u001b[0;32min\u001b[0m \u001b[0mzip\u001b[0m\u001b[0;34m(\u001b[0m\u001b[0mxs\u001b[0m\u001b[0;34m,\u001b[0m\u001b[0mys\u001b[0m\u001b[0;34m)\u001b[0m\u001b[0;34m:\u001b[0m\u001b[0;34m\u001b[0m\u001b[0;34m\u001b[0m\u001b[0m\n",
      "\u001b[0;31mValueError\u001b[0m: too many values to unpack (expected 2)"
     ]
    }
   ],
   "source": [
    "grille_x = np.linspace(-5,5,20)\n",
    "grille_y = np.linspace(-5,5,20)\n",
    "\n",
    "xs,ys = contour(f,1,grille_x,grille_y,0.01)\n",
    "\n",
    "for x,y in zip(xs,ys):\n",
    "    plt.plot(x,y)\n",
    "plt.show()"
   ]
  }
 ],
 "metadata": {
  "kernelspec": {
   "display_name": "Python 3",
   "language": "python",
   "name": "python3"
  },
  "language_info": {
   "codemirror_mode": {
    "name": "ipython",
    "version": 3
   },
   "file_extension": ".py",
   "mimetype": "text/x-python",
   "name": "python",
   "nbconvert_exporter": "python",
   "pygments_lexer": "ipython3",
   "version": "3.7.3"
  }
 },
 "nbformat": 4,
 "nbformat_minor": 2
}
